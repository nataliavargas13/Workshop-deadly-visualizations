{
 "cells": [
  {
   "cell_type": "markdown",
   "metadata": {},
   "source": [
    "# Deadly Visualizations!!!\n",
    "\n",
    "![Image](../images/viz_types_portada.png)"
   ]
  },
  {
   "cell_type": "markdown",
   "metadata": {},
   "source": [
    "## Setup\n",
    "\n",
    "First we need to create a basic setup which includes:\n",
    "\n",
    "- Importing the libraries.\n",
    "\n",
    "- Reading the dataset file (source [Instituto Nacional de Estadística](https://www.ine.es/ss/Satellite?L=es_ES&c=Page&cid=1259942408928&p=1259942408928&pagename=ProductosYServicios%2FPYSLayout)).\n",
    "\n",
    "- Create a couple of columns and tables for the analysis.\n",
    "\n",
    "__NOTE:__ some functions were already created in order to help you go through the challenge. However, feel free to perform any code you might need."
   ]
  },
  {
   "cell_type": "code",
   "execution_count": 1,
   "metadata": {},
   "outputs": [
    {
     "data": {
      "text/html": [
       "        <script type=\"text/javascript\">\n",
       "        window.PlotlyConfig = {MathJaxConfig: 'local'};\n",
       "        if (window.MathJax && window.MathJax.Hub && window.MathJax.Hub.Config) {window.MathJax.Hub.Config({SVG: {font: \"STIX-Web\"}});}\n",
       "        if (typeof require !== 'undefined') {\n",
       "        require.undef(\"plotly\");\n",
       "        requirejs.config({\n",
       "            paths: {\n",
       "                'plotly': ['https://cdn.plot.ly/plotly-2.12.1.min']\n",
       "            }\n",
       "        });\n",
       "        require(['plotly'], function(Plotly) {\n",
       "            window._Plotly = Plotly;\n",
       "        });\n",
       "        }\n",
       "        </script>\n",
       "        "
      ]
     },
     "metadata": {},
     "output_type": "display_data"
    }
   ],
   "source": [
    "# imports\n",
    "\n",
    "import sys\n",
    "import re\n",
    "sys.path.insert(0, \"../modules\")\n",
    "\n",
    "import numpy as np\n",
    "import pandas as pd\n",
    "\n",
    "import plotly.express as px\n",
    "import cufflinks as cf\n",
    "cf.go_offline()\n",
    "\n",
    "import module as mod # functions are include in module.py\n"
   ]
  },
  {
   "cell_type": "code",
   "execution_count": 2,
   "metadata": {},
   "outputs": [
    {
     "name": "stdout",
     "output_type": "stream",
     "text": [
      "<class 'pandas.core.frame.DataFrame'>\n",
      "RangeIndex: 301158 entries, 0 to 301157\n",
      "Data columns (total 5 columns):\n",
      " #   Column           Non-Null Count   Dtype \n",
      "---  ------           --------------   ----- \n",
      " 0   Causa de muerte  301158 non-null  object\n",
      " 1   Sexo             301158 non-null  object\n",
      " 2   Edad             301158 non-null  object\n",
      " 3   Periodo          301158 non-null  int64 \n",
      " 4   Total            301158 non-null  int64 \n",
      "dtypes: int64(2), object(3)\n",
      "memory usage: 11.5+ MB\n"
     ]
    }
   ],
   "source": [
    "# read dataset\n",
    "\n",
    "df_deaths = pd.read_csv('../data/7947.csv', sep=';', thousands='.')\n",
    "\n",
    "df_deaths.info()"
   ]
  },
  {
   "cell_type": "code",
   "execution_count": 3,
   "metadata": {},
   "outputs": [
    {
     "data": {
      "text/plain": [
       "Index(['Causa de muerte', 'Sexo', 'Edad', 'Periodo', 'Total'], dtype='object')"
      ]
     },
     "execution_count": 3,
     "metadata": {},
     "output_type": "execute_result"
    }
   ],
   "source": [
    "df_deaths.columns"
   ]
  },
  {
   "cell_type": "code",
   "execution_count": 4,
   "metadata": {},
   "outputs": [
    {
     "data": {
      "text/plain": [
       "str"
      ]
     },
     "execution_count": 4,
     "metadata": {},
     "output_type": "execute_result"
    }
   ],
   "source": [
    "type(df_deaths.iloc[0]['Causa de muerte'])"
   ]
  },
  {
   "cell_type": "code",
   "execution_count": 5,
   "metadata": {},
   "outputs": [
    {
     "data": {
      "text/plain": [
       "Sexo\n",
       "Total      100386\n",
       "Hombres    100386\n",
       "Mujeres    100386\n",
       "Name: count, dtype: int64"
      ]
     },
     "execution_count": 5,
     "metadata": {},
     "output_type": "execute_result"
    }
   ],
   "source": [
    "df_deaths['Sexo'].value_counts()"
   ]
  },
  {
   "cell_type": "code",
   "execution_count": 6,
   "metadata": {},
   "outputs": [
    {
     "data": {
      "text/html": [
       "<div>\n",
       "<style scoped>\n",
       "    .dataframe tbody tr th:only-of-type {\n",
       "        vertical-align: middle;\n",
       "    }\n",
       "\n",
       "    .dataframe tbody tr th {\n",
       "        vertical-align: top;\n",
       "    }\n",
       "\n",
       "    .dataframe thead th {\n",
       "        text-align: right;\n",
       "    }\n",
       "</style>\n",
       "<table border=\"1\" class=\"dataframe\">\n",
       "  <thead>\n",
       "    <tr style=\"text-align: right;\">\n",
       "      <th></th>\n",
       "      <th>Causa de muerte</th>\n",
       "      <th>Sexo</th>\n",
       "      <th>Edad</th>\n",
       "      <th>Periodo</th>\n",
       "      <th>Total</th>\n",
       "    </tr>\n",
       "  </thead>\n",
       "  <tbody>\n",
       "    <tr>\n",
       "      <th>0</th>\n",
       "      <td>001-102  I-XXII.Todas las causas</td>\n",
       "      <td>Total</td>\n",
       "      <td>Todas las edades</td>\n",
       "      <td>2018</td>\n",
       "      <td>427721</td>\n",
       "    </tr>\n",
       "    <tr>\n",
       "      <th>1</th>\n",
       "      <td>001-102  I-XXII.Todas las causas</td>\n",
       "      <td>Total</td>\n",
       "      <td>Todas las edades</td>\n",
       "      <td>2017</td>\n",
       "      <td>424523</td>\n",
       "    </tr>\n",
       "    <tr>\n",
       "      <th>2</th>\n",
       "      <td>001-102  I-XXII.Todas las causas</td>\n",
       "      <td>Total</td>\n",
       "      <td>Todas las edades</td>\n",
       "      <td>2016</td>\n",
       "      <td>410611</td>\n",
       "    </tr>\n",
       "    <tr>\n",
       "      <th>3</th>\n",
       "      <td>001-102  I-XXII.Todas las causas</td>\n",
       "      <td>Total</td>\n",
       "      <td>Todas las edades</td>\n",
       "      <td>2015</td>\n",
       "      <td>422568</td>\n",
       "    </tr>\n",
       "    <tr>\n",
       "      <th>4</th>\n",
       "      <td>001-102  I-XXII.Todas las causas</td>\n",
       "      <td>Total</td>\n",
       "      <td>Todas las edades</td>\n",
       "      <td>2014</td>\n",
       "      <td>395830</td>\n",
       "    </tr>\n",
       "  </tbody>\n",
       "</table>\n",
       "</div>"
      ],
      "text/plain": [
       "                    Causa de muerte   Sexo              Edad  Periodo   Total\n",
       "0  001-102  I-XXII.Todas las causas  Total  Todas las edades     2018  427721\n",
       "1  001-102  I-XXII.Todas las causas  Total  Todas las edades     2017  424523\n",
       "2  001-102  I-XXII.Todas las causas  Total  Todas las edades     2016  410611\n",
       "3  001-102  I-XXII.Todas las causas  Total  Todas las edades     2015  422568\n",
       "4  001-102  I-XXII.Todas las causas  Total  Todas las edades     2014  395830"
      ]
     },
     "execution_count": 6,
     "metadata": {},
     "output_type": "execute_result"
    }
   ],
   "source": [
    "df_deaths.head()"
   ]
  },
  {
   "cell_type": "code",
   "execution_count": 7,
   "metadata": {},
   "outputs": [
    {
     "data": {
      "text/plain": [
       "Causa de muerte\n",
       "001-102  I-XXII.Todas las causas                                             2574\n",
       "066  Insuficiencia respiratoria                                              2574\n",
       "076  Otras enfermedades del sistema osteomuscular y del tejido conjuntivo    2574\n",
       "075  Osteoporosis y fractura patológica                                      2574\n",
       "074  Artritis reumatoide y osteoartrosis                                     2574\n",
       "                                                                             ... \n",
       "033  Tumor maligno del encéfalo                                              2574\n",
       "032  Otros tumores malignos de las vías urinarias                            2574\n",
       "031  Tumor maligno de la vejiga                                              2574\n",
       "030  Tumor maligno del riñón, excepto pelvis renal                           2574\n",
       "102  Otras causas externas y sus efectos tardíos                             2574\n",
       "Name: count, Length: 117, dtype: int64"
      ]
     },
     "execution_count": 7,
     "metadata": {},
     "output_type": "execute_result"
    }
   ],
   "source": [
    "df_deaths['Causa de muerte'].value_counts()\n"
   ]
  },
  {
   "cell_type": "code",
   "execution_count": 8,
   "metadata": {},
   "outputs": [],
   "source": [
    "num_causes = df_deaths['Causa de muerte'].nunique()"
   ]
  },
  {
   "cell_type": "code",
   "execution_count": null,
   "metadata": {},
   "outputs": [],
   "source": []
  },
  {
   "cell_type": "code",
   "execution_count": 9,
   "metadata": {},
   "outputs": [
    {
     "name": "stdout",
     "output_type": "stream",
     "text": [
      "<class 'pandas.core.frame.DataFrame'>\n",
      "RangeIndex: 301158 entries, 0 to 301157\n",
      "Data columns (total 8 columns):\n",
      " #   Column           Non-Null Count   Dtype \n",
      "---  ------           --------------   ----- \n",
      " 0   Causa de muerte  301158 non-null  object\n",
      " 1   Sexo             301158 non-null  object\n",
      " 2   Edad             301158 non-null  object\n",
      " 3   Periodo          301158 non-null  int64 \n",
      " 4   Total            301158 non-null  int64 \n",
      " 5   cause_code       301158 non-null  object\n",
      " 6   cause_group      301158 non-null  object\n",
      " 7   cause_name       301158 non-null  object\n",
      "dtypes: int64(2), object(6)\n",
      "memory usage: 18.4+ MB\n"
     ]
    }
   ],
   "source": [
    "# add some columns...you'll need them later\n",
    "\n",
    "df_deaths['cause_code'] = df_deaths['Causa de muerte'].apply(mod.cause_code)\n",
    "df_deaths['cause_group'] = df_deaths['Causa de muerte'].apply(mod.cause_types)\n",
    "df_deaths['cause_name'] = df_deaths['Causa de muerte'].apply(mod.cause_name)\n",
    "\n",
    "df_deaths.info()"
   ]
  },
  {
   "cell_type": "code",
   "execution_count": 11,
   "metadata": {},
   "outputs": [
    {
     "data": {
      "text/html": [
       "<div>\n",
       "<style scoped>\n",
       "    .dataframe tbody tr th:only-of-type {\n",
       "        vertical-align: middle;\n",
       "    }\n",
       "\n",
       "    .dataframe tbody tr th {\n",
       "        vertical-align: top;\n",
       "    }\n",
       "\n",
       "    .dataframe thead th {\n",
       "        text-align: right;\n",
       "    }\n",
       "</style>\n",
       "<table border=\"1\" class=\"dataframe\">\n",
       "  <thead>\n",
       "    <tr style=\"text-align: right;\">\n",
       "      <th></th>\n",
       "      <th>categorical_variable</th>\n",
       "      <th>number_of_possible_values</th>\n",
       "      <th>values</th>\n",
       "    </tr>\n",
       "  </thead>\n",
       "  <tbody>\n",
       "    <tr>\n",
       "      <th>0</th>\n",
       "      <td>cause_code</td>\n",
       "      <td>117</td>\n",
       "      <td>[001-102, 001-008, 001, 002, 003, 004, 005, 00...</td>\n",
       "    </tr>\n",
       "    <tr>\n",
       "      <th>1</th>\n",
       "      <td>cause_name</td>\n",
       "      <td>117</td>\n",
       "      <td>[I-XXII.Todas las causas, I.Enfermedades infec...</td>\n",
       "    </tr>\n",
       "    <tr>\n",
       "      <th>2</th>\n",
       "      <td>Periodo</td>\n",
       "      <td>39</td>\n",
       "      <td>[2018, 2017, 2016, 2015, 2014, 2013, 2012, 201...</td>\n",
       "    </tr>\n",
       "    <tr>\n",
       "      <th>3</th>\n",
       "      <td>Edad</td>\n",
       "      <td>22</td>\n",
       "      <td>[Todas las edades, Menos de 1 año, De 1 a 4 añ...</td>\n",
       "    </tr>\n",
       "    <tr>\n",
       "      <th>4</th>\n",
       "      <td>Sexo</td>\n",
       "      <td>3</td>\n",
       "      <td>[Total, Hombres, Mujeres]</td>\n",
       "    </tr>\n",
       "    <tr>\n",
       "      <th>5</th>\n",
       "      <td>cause_group</td>\n",
       "      <td>2</td>\n",
       "      <td>[Multiple causes, Single cause]</td>\n",
       "    </tr>\n",
       "  </tbody>\n",
       "</table>\n",
       "</div>"
      ],
      "text/plain": [
       "  categorical_variable  number_of_possible_values  \\\n",
       "0           cause_code                        117   \n",
       "1           cause_name                        117   \n",
       "2              Periodo                         39   \n",
       "3                 Edad                         22   \n",
       "4                 Sexo                          3   \n",
       "5          cause_group                          2   \n",
       "\n",
       "                                              values  \n",
       "0  [001-102, 001-008, 001, 002, 003, 004, 005, 00...  \n",
       "1  [I-XXII.Todas las causas, I.Enfermedades infec...  \n",
       "2  [2018, 2017, 2016, 2015, 2014, 2013, 2012, 201...  \n",
       "3  [Todas las edades, Menos de 1 año, De 1 a 4 añ...  \n",
       "4                          [Total, Hombres, Mujeres]  \n",
       "5                    [Multiple causes, Single cause]  "
      ]
     },
     "execution_count": 11,
     "metadata": {},
     "output_type": "execute_result"
    }
   ],
   "source": [
    "# lets check the categorical variables\n",
    "\n",
    "var_list = ['Sexo', 'Edad', 'Periodo', 'cause_code', 'cause_name', 'cause_group']\n",
    "\n",
    "categories = mod.cat_var(df_deaths, var_list)\n",
    "categories\n",
    "\n"
   ]
  },
  {
   "cell_type": "code",
   "execution_count": 12,
   "metadata": {},
   "outputs": [
    {
     "data": {
      "text/html": [
       "<div>\n",
       "<style scoped>\n",
       "    .dataframe tbody tr th:only-of-type {\n",
       "        vertical-align: middle;\n",
       "    }\n",
       "\n",
       "    .dataframe tbody tr th {\n",
       "        vertical-align: top;\n",
       "    }\n",
       "\n",
       "    .dataframe thead th {\n",
       "        text-align: right;\n",
       "    }\n",
       "</style>\n",
       "<table border=\"1\" class=\"dataframe\">\n",
       "  <thead>\n",
       "    <tr style=\"text-align: right;\">\n",
       "      <th></th>\n",
       "      <th>cause_code</th>\n",
       "      <th>cause_name</th>\n",
       "    </tr>\n",
       "  </thead>\n",
       "  <tbody>\n",
       "    <tr>\n",
       "      <th>0</th>\n",
       "      <td>001</td>\n",
       "      <td>Enfermedades infecciosas intestinales</td>\n",
       "    </tr>\n",
       "    <tr>\n",
       "      <th>1</th>\n",
       "      <td>001-008</td>\n",
       "      <td>I.Enfermedades infecciosas y parasitarias</td>\n",
       "    </tr>\n",
       "    <tr>\n",
       "      <th>2</th>\n",
       "      <td>001-102</td>\n",
       "      <td>I-XXII.Todas las causas</td>\n",
       "    </tr>\n",
       "    <tr>\n",
       "      <th>3</th>\n",
       "      <td>002</td>\n",
       "      <td>Tuberculosis y sus efectos tardíos</td>\n",
       "    </tr>\n",
       "    <tr>\n",
       "      <th>4</th>\n",
       "      <td>003</td>\n",
       "      <td>Enfermedad meningocócica</td>\n",
       "    </tr>\n",
       "    <tr>\n",
       "      <th>...</th>\n",
       "      <td>...</td>\n",
       "      <td>...</td>\n",
       "    </tr>\n",
       "    <tr>\n",
       "      <th>112</th>\n",
       "      <td>098</td>\n",
       "      <td>Suicidio y lesiones autoinfligidas</td>\n",
       "    </tr>\n",
       "    <tr>\n",
       "      <th>113</th>\n",
       "      <td>099</td>\n",
       "      <td>Agresiones (homicidio)</td>\n",
       "    </tr>\n",
       "    <tr>\n",
       "      <th>114</th>\n",
       "      <td>100</td>\n",
       "      <td>Eventos de intención no determinada</td>\n",
       "    </tr>\n",
       "    <tr>\n",
       "      <th>115</th>\n",
       "      <td>101</td>\n",
       "      <td>Complicaciones de la atención médica y quirúrgica</td>\n",
       "    </tr>\n",
       "    <tr>\n",
       "      <th>116</th>\n",
       "      <td>102</td>\n",
       "      <td>Otras causas externas y sus efectos tardíos</td>\n",
       "    </tr>\n",
       "  </tbody>\n",
       "</table>\n",
       "<p>117 rows × 2 columns</p>\n",
       "</div>"
      ],
      "text/plain": [
       "    cause_code                                         cause_name\n",
       "0          001              Enfermedades infecciosas intestinales\n",
       "1      001-008          I.Enfermedades infecciosas y parasitarias\n",
       "2      001-102                            I-XXII.Todas las causas\n",
       "3          002                 Tuberculosis y sus efectos tardíos\n",
       "4          003                           Enfermedad meningocócica\n",
       "..         ...                                                ...\n",
       "112        098                 Suicidio y lesiones autoinfligidas\n",
       "113        099                             Agresiones (homicidio)\n",
       "114        100                Eventos de intención no determinada\n",
       "115        101  Complicaciones de la atención médica y quirúrgica\n",
       "116        102        Otras causas externas y sus efectos tardíos\n",
       "\n",
       "[117 rows x 2 columns]"
      ]
     },
     "execution_count": 12,
     "metadata": {},
     "output_type": "execute_result"
    }
   ],
   "source": [
    "# we need also to create a causes table for the analysis\n",
    "\n",
    "causes_table = df_deaths[['cause_code', 'cause_name']].drop_duplicates().sort_values(by='cause_code').reset_index(drop=True)\n",
    "\n",
    "causes_table"
   ]
  },
  {
   "cell_type": "code",
   "execution_count": 13,
   "metadata": {},
   "outputs": [],
   "source": [
    "# And some space for free-style Pandas!!! (e.g.: df['column_name'].unique())\n",
    "\n",
    "def cause_code(text):\n",
    "    return text.split(\" \", 1)[0]\n",
    "\n",
    "\n",
    "\n",
    "\n"
   ]
  },
  {
   "cell_type": "code",
   "execution_count": 14,
   "metadata": {},
   "outputs": [],
   "source": [
    "def row_filter(df, cat_var, cat_values):\n",
    "    df = df[df[cat_var].isin(cat_values)].sort_values(by='Total', ascending=False)\n",
    "    return df.reset_index(drop=True)"
   ]
  },
  {
   "cell_type": "markdown",
   "metadata": {},
   "source": [
    "## Lets make some transformations\n",
    "\n",
    "Eventhough the dataset is pretty clean, the information is completely denormalized as you could see. For that matter a collection of methods (functions) are available in order to generate the tables you might need:\n",
    "\n",
    "- `row_filter(df, cat_var, cat_values)` => Filter rows by any value or group of values in a categorical variable.\n",
    "\n",
    "- `nrow_filter(df, cat_var, cat_values)` => The same but backwards. \n",
    "\n",
    "- `groupby_sum(df, group_vars, agg_var='Total', sort_var='Total')` => Add deaths by a certain variable.\n",
    "\n",
    "- `pivot_table(df, col, x_axis, value='Total')`=> Make some pivot tables, you might need them...\n",
    "\n",
    "__NOTE:__ be aware that the filtering methods can perform a filter at a time. Feel free to perform the filter you need in any way you want or feel confortable with."
   ]
  },
  {
   "cell_type": "code",
   "execution_count": 16,
   "metadata": {},
   "outputs": [
    {
     "data": {
      "text/html": [
       "<div>\n",
       "<style scoped>\n",
       "    .dataframe tbody tr th:only-of-type {\n",
       "        vertical-align: middle;\n",
       "    }\n",
       "\n",
       "    .dataframe tbody tr th {\n",
       "        vertical-align: top;\n",
       "    }\n",
       "\n",
       "    .dataframe thead th {\n",
       "        text-align: right;\n",
       "    }\n",
       "</style>\n",
       "<table border=\"1\" class=\"dataframe\">\n",
       "  <thead>\n",
       "    <tr style=\"text-align: right;\">\n",
       "      <th></th>\n",
       "      <th>Causa de muerte</th>\n",
       "      <th>Sexo</th>\n",
       "      <th>Edad</th>\n",
       "      <th>Periodo</th>\n",
       "      <th>Total</th>\n",
       "      <th>cause_code</th>\n",
       "      <th>cause_group</th>\n",
       "      <th>cause_name</th>\n",
       "    </tr>\n",
       "  </thead>\n",
       "  <tbody>\n",
       "    <tr>\n",
       "      <th>0</th>\n",
       "      <td>001-102  I-XXII.Todas las causas</td>\n",
       "      <td>Total</td>\n",
       "      <td>Todas las edades</td>\n",
       "      <td>2018</td>\n",
       "      <td>427721</td>\n",
       "      <td>001-102</td>\n",
       "      <td>Multiple causes</td>\n",
       "      <td>I-XXII.Todas las causas</td>\n",
       "    </tr>\n",
       "    <tr>\n",
       "      <th>1</th>\n",
       "      <td>001-102  I-XXII.Todas las causas</td>\n",
       "      <td>Total</td>\n",
       "      <td>Todas las edades</td>\n",
       "      <td>2017</td>\n",
       "      <td>424523</td>\n",
       "      <td>001-102</td>\n",
       "      <td>Multiple causes</td>\n",
       "      <td>I-XXII.Todas las causas</td>\n",
       "    </tr>\n",
       "    <tr>\n",
       "      <th>2</th>\n",
       "      <td>001-102  I-XXII.Todas las causas</td>\n",
       "      <td>Total</td>\n",
       "      <td>Todas las edades</td>\n",
       "      <td>2015</td>\n",
       "      <td>422568</td>\n",
       "      <td>001-102</td>\n",
       "      <td>Multiple causes</td>\n",
       "      <td>I-XXII.Todas las causas</td>\n",
       "    </tr>\n",
       "    <tr>\n",
       "      <th>3</th>\n",
       "      <td>001-102  I-XXII.Todas las causas</td>\n",
       "      <td>Total</td>\n",
       "      <td>Todas las edades</td>\n",
       "      <td>2016</td>\n",
       "      <td>410611</td>\n",
       "      <td>001-102</td>\n",
       "      <td>Multiple causes</td>\n",
       "      <td>I-XXII.Todas las causas</td>\n",
       "    </tr>\n",
       "    <tr>\n",
       "      <th>4</th>\n",
       "      <td>001-102  I-XXII.Todas las causas</td>\n",
       "      <td>Total</td>\n",
       "      <td>Todas las edades</td>\n",
       "      <td>2012</td>\n",
       "      <td>402950</td>\n",
       "      <td>001-102</td>\n",
       "      <td>Multiple causes</td>\n",
       "      <td>I-XXII.Todas las causas</td>\n",
       "    </tr>\n",
       "  </tbody>\n",
       "</table>\n",
       "</div>"
      ],
      "text/plain": [
       "                    Causa de muerte   Sexo              Edad  Periodo   Total  \\\n",
       "0  001-102  I-XXII.Todas las causas  Total  Todas las edades     2018  427721   \n",
       "1  001-102  I-XXII.Todas las causas  Total  Todas las edades     2017  424523   \n",
       "2  001-102  I-XXII.Todas las causas  Total  Todas las edades     2015  422568   \n",
       "3  001-102  I-XXII.Todas las causas  Total  Todas las edades     2016  410611   \n",
       "4  001-102  I-XXII.Todas las causas  Total  Todas las edades     2012  402950   \n",
       "\n",
       "  cause_code      cause_group               cause_name  \n",
       "0    001-102  Multiple causes  I-XXII.Todas las causas  \n",
       "1    001-102  Multiple causes  I-XXII.Todas las causas  \n",
       "2    001-102  Multiple causes  I-XXII.Todas las causas  \n",
       "3    001-102  Multiple causes  I-XXII.Todas las causas  \n",
       "4    001-102  Multiple causes  I-XXII.Todas las causas  "
      ]
     },
     "execution_count": 16,
     "metadata": {},
     "output_type": "execute_result"
    }
   ],
   "source": [
    "# Example 1\n",
    "\n",
    "dataset = mod.row_filter(df_deaths, 'Sexo', ['Total'])\n",
    "dataset = mod.row_filter(dataset, 'Edad', ['Todas las edades'])\n",
    "dataset.head()\n"
   ]
  },
  {
   "cell_type": "code",
   "execution_count": 19,
   "metadata": {},
   "outputs": [
    {
     "data": {
      "text/html": [
       "<div>\n",
       "<style scoped>\n",
       "    .dataframe tbody tr th:only-of-type {\n",
       "        vertical-align: middle;\n",
       "    }\n",
       "\n",
       "    .dataframe tbody tr th {\n",
       "        vertical-align: top;\n",
       "    }\n",
       "\n",
       "    .dataframe thead th {\n",
       "        text-align: right;\n",
       "    }\n",
       "</style>\n",
       "<table border=\"1\" class=\"dataframe\">\n",
       "  <thead>\n",
       "    <tr style=\"text-align: right;\">\n",
       "      <th></th>\n",
       "      <th>cause_code</th>\n",
       "      <th>Periodo</th>\n",
       "      <th>Total</th>\n",
       "    </tr>\n",
       "  </thead>\n",
       "  <tbody>\n",
       "    <tr>\n",
       "      <th>0</th>\n",
       "      <td>001-102</td>\n",
       "      <td>2018</td>\n",
       "      <td>1710884</td>\n",
       "    </tr>\n",
       "    <tr>\n",
       "      <th>1</th>\n",
       "      <td>001-102</td>\n",
       "      <td>2017</td>\n",
       "      <td>1698092</td>\n",
       "    </tr>\n",
       "    <tr>\n",
       "      <th>2</th>\n",
       "      <td>001-102</td>\n",
       "      <td>2015</td>\n",
       "      <td>1690272</td>\n",
       "    </tr>\n",
       "    <tr>\n",
       "      <th>3</th>\n",
       "      <td>001-102</td>\n",
       "      <td>2016</td>\n",
       "      <td>1642444</td>\n",
       "    </tr>\n",
       "    <tr>\n",
       "      <th>4</th>\n",
       "      <td>001-102</td>\n",
       "      <td>2012</td>\n",
       "      <td>1611800</td>\n",
       "    </tr>\n",
       "  </tbody>\n",
       "</table>\n",
       "</div>"
      ],
      "text/plain": [
       "  cause_code  Periodo    Total\n",
       "0    001-102     2018  1710884\n",
       "1    001-102     2017  1698092\n",
       "2    001-102     2015  1690272\n",
       "3    001-102     2016  1642444\n",
       "4    001-102     2012  1611800"
      ]
     },
     "execution_count": 19,
     "metadata": {},
     "output_type": "execute_result"
    }
   ],
   "source": [
    "# Example 2\n",
    "\n",
    "group = ['cause_code','Periodo']\n",
    "dataset = mod.groupby_sum(df_deaths, group)\n",
    "dataset.head()\n"
   ]
  },
  {
   "cell_type": "code",
   "execution_count": 20,
   "metadata": {},
   "outputs": [
    {
     "data": {
      "text/html": [
       "<div>\n",
       "<style scoped>\n",
       "    .dataframe tbody tr th:only-of-type {\n",
       "        vertical-align: middle;\n",
       "    }\n",
       "\n",
       "    .dataframe tbody tr th {\n",
       "        vertical-align: top;\n",
       "    }\n",
       "\n",
       "    .dataframe thead th {\n",
       "        text-align: right;\n",
       "    }\n",
       "</style>\n",
       "<table border=\"1\" class=\"dataframe\">\n",
       "  <thead>\n",
       "    <tr style=\"text-align: right;\">\n",
       "      <th>cause_code</th>\n",
       "      <th>Periodo</th>\n",
       "      <th>001</th>\n",
       "      <th>001-008</th>\n",
       "      <th>001-102</th>\n",
       "      <th>002</th>\n",
       "      <th>003</th>\n",
       "      <th>004</th>\n",
       "      <th>005</th>\n",
       "      <th>006</th>\n",
       "      <th>007</th>\n",
       "      <th>...</th>\n",
       "      <th>093</th>\n",
       "      <th>094</th>\n",
       "      <th>095</th>\n",
       "      <th>096</th>\n",
       "      <th>097</th>\n",
       "      <th>098</th>\n",
       "      <th>099</th>\n",
       "      <th>100</th>\n",
       "      <th>101</th>\n",
       "      <th>102</th>\n",
       "    </tr>\n",
       "  </thead>\n",
       "  <tbody>\n",
       "    <tr>\n",
       "      <th>0</th>\n",
       "      <td>1980</td>\n",
       "      <td>1620</td>\n",
       "      <td>15768</td>\n",
       "      <td>1157376</td>\n",
       "      <td>5904</td>\n",
       "      <td>2008</td>\n",
       "      <td>3448</td>\n",
       "      <td>436</td>\n",
       "      <td>0</td>\n",
       "      <td>0</td>\n",
       "      <td>...</td>\n",
       "      <td>4956</td>\n",
       "      <td>1432</td>\n",
       "      <td>184</td>\n",
       "      <td>692</td>\n",
       "      <td>16748</td>\n",
       "      <td>6608</td>\n",
       "      <td>1496</td>\n",
       "      <td>28</td>\n",
       "      <td>968</td>\n",
       "      <td>96</td>\n",
       "    </tr>\n",
       "    <tr>\n",
       "      <th>1</th>\n",
       "      <td>1981</td>\n",
       "      <td>1404</td>\n",
       "      <td>15124</td>\n",
       "      <td>1173544</td>\n",
       "      <td>6332</td>\n",
       "      <td>1656</td>\n",
       "      <td>3344</td>\n",
       "      <td>348</td>\n",
       "      <td>0</td>\n",
       "      <td>0</td>\n",
       "      <td>...</td>\n",
       "      <td>4700</td>\n",
       "      <td>1200</td>\n",
       "      <td>156</td>\n",
       "      <td>1396</td>\n",
       "      <td>17472</td>\n",
       "      <td>6872</td>\n",
       "      <td>1284</td>\n",
       "      <td>336</td>\n",
       "      <td>908</td>\n",
       "      <td>208</td>\n",
       "    </tr>\n",
       "    <tr>\n",
       "      <th>2</th>\n",
       "      <td>1982</td>\n",
       "      <td>1308</td>\n",
       "      <td>13488</td>\n",
       "      <td>1146620</td>\n",
       "      <td>5352</td>\n",
       "      <td>1240</td>\n",
       "      <td>3104</td>\n",
       "      <td>316</td>\n",
       "      <td>0</td>\n",
       "      <td>0</td>\n",
       "      <td>...</td>\n",
       "      <td>4864</td>\n",
       "      <td>956</td>\n",
       "      <td>200</td>\n",
       "      <td>1000</td>\n",
       "      <td>18616</td>\n",
       "      <td>7404</td>\n",
       "      <td>1228</td>\n",
       "      <td>440</td>\n",
       "      <td>1132</td>\n",
       "      <td>52</td>\n",
       "    </tr>\n",
       "    <tr>\n",
       "      <th>3</th>\n",
       "      <td>1983</td>\n",
       "      <td>1212</td>\n",
       "      <td>13100</td>\n",
       "      <td>1210276</td>\n",
       "      <td>5152</td>\n",
       "      <td>1072</td>\n",
       "      <td>3152</td>\n",
       "      <td>336</td>\n",
       "      <td>0</td>\n",
       "      <td>0</td>\n",
       "      <td>...</td>\n",
       "      <td>4788</td>\n",
       "      <td>1464</td>\n",
       "      <td>148</td>\n",
       "      <td>884</td>\n",
       "      <td>18392</td>\n",
       "      <td>8724</td>\n",
       "      <td>1560</td>\n",
       "      <td>1276</td>\n",
       "      <td>1500</td>\n",
       "      <td>56</td>\n",
       "    </tr>\n",
       "    <tr>\n",
       "      <th>4</th>\n",
       "      <td>1984</td>\n",
       "      <td>1228</td>\n",
       "      <td>12928</td>\n",
       "      <td>1197636</td>\n",
       "      <td>4564</td>\n",
       "      <td>964</td>\n",
       "      <td>3704</td>\n",
       "      <td>424</td>\n",
       "      <td>0</td>\n",
       "      <td>0</td>\n",
       "      <td>...</td>\n",
       "      <td>4716</td>\n",
       "      <td>1244</td>\n",
       "      <td>164</td>\n",
       "      <td>1020</td>\n",
       "      <td>14696</td>\n",
       "      <td>9972</td>\n",
       "      <td>1812</td>\n",
       "      <td>1144</td>\n",
       "      <td>1636</td>\n",
       "      <td>76</td>\n",
       "    </tr>\n",
       "  </tbody>\n",
       "</table>\n",
       "<p>5 rows × 118 columns</p>\n",
       "</div>"
      ],
      "text/plain": [
       "cause_code  Periodo   001  001-008  001-102   002   003   004  005  006  007  \\\n",
       "0              1980  1620    15768  1157376  5904  2008  3448  436    0    0   \n",
       "1              1981  1404    15124  1173544  6332  1656  3344  348    0    0   \n",
       "2              1982  1308    13488  1146620  5352  1240  3104  316    0    0   \n",
       "3              1983  1212    13100  1210276  5152  1072  3152  336    0    0   \n",
       "4              1984  1228    12928  1197636  4564   964  3704  424    0    0   \n",
       "\n",
       "cause_code  ...   093   094  095   096    097   098   099   100   101  102  \n",
       "0           ...  4956  1432  184   692  16748  6608  1496    28   968   96  \n",
       "1           ...  4700  1200  156  1396  17472  6872  1284   336   908  208  \n",
       "2           ...  4864   956  200  1000  18616  7404  1228   440  1132   52  \n",
       "3           ...  4788  1464  148   884  18392  8724  1560  1276  1500   56  \n",
       "4           ...  4716  1244  164  1020  14696  9972  1812  1144  1636   76  \n",
       "\n",
       "[5 rows x 118 columns]"
      ]
     },
     "execution_count": 20,
     "metadata": {},
     "output_type": "execute_result"
    }
   ],
   "source": [
    "# Example 3\n",
    "\n",
    "dataset = mod.pivot_table(dataset, 'cause_code', 'Periodo')\n",
    "dataset.head()\n"
   ]
  },
  {
   "cell_type": "markdown",
   "metadata": {},
   "source": [
    "## ...and finally, show me some insights with Plotly!!!"
   ]
  },
  {
   "cell_type": "code",
   "execution_count": null,
   "metadata": {},
   "outputs": [],
   "source": [
    "# Cufflinks histogram\n",
    "\n",
    "dataset.iplot(kind='hist',\n",
    "                     title='Muertes por edad',\n",
    "                     yTitle='edad',\n",
    "                     xTitle='sexo')\n"
   ]
  },
  {
   "cell_type": "code",
   "execution_count": 25,
   "metadata": {},
   "outputs": [
    {
     "data": {
      "application/vnd.plotly.v1+json": {
       "config": {
        "plotlyServerURL": "https://plot.ly"
       },
       "data": [
        {
         "alignmentgroup": "True",
         "bingroup": "x",
         "hovertemplate": "Edad=%{x}<br>count=%{y}<extra></extra>",
         "legendgroup": "",
         "marker": {
          "color": "#636efa",
          "pattern": {
           "shape": ""
          }
         },
         "name": "",
         "offsetgroup": "",
         "orientation": "v",
         "showlegend": false,
         "type": "histogram",
         "x": [
          "Todas las edades",
          "Todas las edades",
          "Todas las edades",
          "Todas las edades",
          "Todas las edades",
          "Todas las edades",
          "Todas las edades",
          "Todas las edades",
          "Todas las edades",
          "Todas las edades",
          "Todas las edades",
          "Todas las edades",
          "Todas las edades",
          "Todas las edades",
          "Todas las edades",
          "Todas las edades",
          "Todas las edades",
          "Todas las edades",
          "De 85 a 89 años  ",
          "Todas las edades",
          "De 85 a 89 años  ",
          "De 85 a 89 años  ",
          "De 85 a 89 años  ",
          "Todas las edades",
          "De 85 a 89 años  ",
          "De 85 a 89 años  ",
          "De 85 a 89 años  ",
          "De 90 a 94 años  ",
          "De 90 a 94 años  ",
          "De 90 a 94 años  ",
          "De 85 a 89 años  ",
          "De 90 a 94 años  ",
          "De 85 a 89 años  ",
          "De 85 a 89 años  ",
          "De 90 a 94 años  ",
          "De 80 a 84 años  ",
          "De 85 a 89 años  ",
          "De 80 a 84 años  ",
          "De 80 a 84 años  ",
          "De 90 a 94 años  ",
          "Todas las edades",
          "De 80 a 84 años  ",
          "De 80 a 84 años  ",
          "De 80 a 84 años  ",
          "De 85 a 89 años  ",
          "De 90 a 94 años  ",
          "De 80 a 84 años  ",
          "De 80 a 84 años  ",
          "De 80 a 84 años  ",
          "De 80 a 84 años  ",
          "De 80 a 84 años  ",
          "De 80 a 84 años  ",
          "De 85 a 89 años  ",
          "De 85 a 89 años  ",
          "De 80 a 84 años  ",
          "Todas las edades",
          "De 90 a 94 años  ",
          "De 80 a 84 años  ",
          "De 80 a 84 años  ",
          "De 85 a 89 años  ",
          "De 85 a 89 años  ",
          "De 90 a 94 años  ",
          "Todas las edades",
          "De 80 a 84 años  ",
          "De 90 a 94 años  ",
          "Todas las edades",
          "De 90 a 94 años  ",
          "De 80 a 84 años  ",
          "De 90 a 94 años  ",
          "De 85 a 89 años  ",
          "Todas las edades",
          "De 80 a 84 años  ",
          "De 85 a 89 años  ",
          "95 y más años",
          "De 90 a 94 años  ",
          "95 y más años",
          "De 90 a 94 años  ",
          "95 y más años",
          "De 85 a 89 años  ",
          "95 y más años",
          "De 75 a 79 años  ",
          "De 80 a 84 años  ",
          "De 75 a 79 años  ",
          "De 75 a 79 años  ",
          "De 90 a 94 años  ",
          "De 75 a 79 años  ",
          "De 80 a 84 años  ",
          "De 75 a 79 años  ",
          "De 90 a 94 años  ",
          "De 75 a 79 años  ",
          "De 75 a 79 años  ",
          "De 75 a 79 años  ",
          "De 75 a 79 años  ",
          "Todas las edades",
          "De 75 a 79 años  ",
          "De 85 a 89 años  ",
          "De 75 a 79 años  ",
          "De 75 a 79 años  ",
          "De 75 a 79 años  ",
          "De 75 a 79 años  ",
          "De 75 a 79 años  ",
          "95 y más años",
          "De 75 a 79 años  ",
          "De 75 a 79 años  ",
          "Todas las edades",
          "95 y más años",
          "95 y más años",
          "De 75 a 79 años  ",
          "De 90 a 94 años  ",
          "Todas las edades",
          "De 75 a 79 años  ",
          "De 75 a 79 años  ",
          "De 90 a 94 años  ",
          "95 y más años",
          "De 80 a 84 años  ",
          "95 y más años",
          "Todas las edades",
          "De 90 a 94 años  ",
          "95 y más años",
          "De 85 a 89 años  ",
          "De 75 a 79 años  ",
          "De 80 a 84 años  ",
          "De 90 a 94 años  ",
          "95 y más años",
          "De 80 a 84 años  ",
          "Todas las edades",
          "95 y más años",
          "De 85 a 89 años  ",
          "De 70 a 74 años  ",
          "De 75 a 79 años  ",
          "De 80 a 84 años  ",
          "De 70 a 74 años  ",
          "95 y más años",
          "De 70 a 74 años  ",
          "De 75 a 79 años  ",
          "De 70 a 74 años  ",
          "95 y más años",
          "De 85 a 89 años  ",
          "De 70 a 74 años  ",
          "De 70 a 74 años  ",
          "De 70 a 74 años  ",
          "De 70 a 74 años  ",
          "De 70 a 74 años  ",
          "De 70 a 74 años  ",
          "De 70 a 74 años  ",
          "De 75 a 79 años  ",
          "De 70 a 74 años  ",
          "De 70 a 74 años  ",
          "De 80 a 84 años  ",
          "De 70 a 74 años  ",
          "De 70 a 74 años  ",
          "De 85 a 89 años  ",
          "95 y más años",
          "Todas las edades",
          "De 70 a 74 años  ",
          "95 y más años",
          "De 70 a 74 años  ",
          "De 75 a 79 años  ",
          "De 90 a 94 años  ",
          "De 70 a 74 años  ",
          "De 70 a 74 años  ",
          "De 70 a 74 años  ",
          "De 85 a 89 años  ",
          "De 70 a 74 años  ",
          "De 80 a 84 años  ",
          "De 70 a 74 años  ",
          "Todas las edades",
          "De 75 a 79 años  ",
          "95 y más años",
          "De 70 a 74 años  ",
          "95 y más años",
          "De 90 a 94 años  ",
          "De 70 a 74 años  ",
          "De 75 a 79 años  ",
          "De 75 a 79 años  ",
          "De 70 a 74 años  ",
          "De 80 a 84 años  ",
          "De 85 a 89 años  ",
          "95 y más años",
          "De 80 a 84 años  ",
          "De 85 a 89 años  ",
          "De 90 a 94 años  ",
          "De 65 a 69 años",
          "De 75 a 79 años  ",
          "De 80 a 84 años  ",
          "De 70 a 74 años  ",
          "De 90 a 94 años  ",
          "De 65 a 69 años",
          "De 65 a 69 años",
          "De 70 a 74 años  ",
          "De 65 a 69 años",
          "95 y más años",
          "De 65 a 69 años",
          "De 65 a 69 años",
          "De 65 a 69 años",
          "De 65 a 69 años",
          "De 65 a 69 años",
          "De 70 a 74 años  ",
          "De 85 a 89 años  ",
          "Todas las edades",
          "De 65 a 69 años",
          "De 80 a 84 años  ",
          "De 65 a 69 años",
          "De 65 a 69 años",
          "De 65 a 69 años",
          "De 65 a 69 años",
          "De 65 a 69 años",
          "De 65 a 69 años",
          "De 70 a 74 años  ",
          "De 65 a 69 años",
          "De 65 a 69 años",
          "De 65 a 69 años",
          "De 65 a 69 años",
          "De 75 a 79 años  ",
          "De 65 a 69 años",
          "De 85 a 89 años  ",
          "De 90 a 94 años  ",
          "De 65 a 69 años",
          "De 65 a 69 años",
          "De 65 a 69 años",
          "Todas las edades",
          "De 65 a 69 años",
          "De 65 a 69 años",
          "De 65 a 69 años",
          "De 70 a 74 años  ",
          "De 65 a 69 años",
          "De 75 a 79 años  ",
          "De 85 a 89 años  ",
          "De 90 a 94 años  ",
          "De 60 a 64 años",
          "De 65 a 69 años",
          "De 65 a 69 años",
          "De 60 a 64 años",
          "De 60 a 64 años",
          "De 75 a 79 años  ",
          "De 60 a 64 años",
          "De 80 a 84 años  ",
          "De 70 a 74 años  ",
          "De 60 a 64 años",
          "De 90 a 94 años  ",
          "De 60 a 64 años",
          "De 60 a 64 años",
          "De 60 a 64 años",
          "De 60 a 64 años",
          "De 60 a 64 años",
          "95 y más años",
          "De 70 a 74 años  ",
          "95 y más años",
          "95 y más años",
          "De 60 a 64 años",
          "De 60 a 64 años",
          "De 85 a 89 años  ",
          "De 60 a 64 años",
          "De 60 a 64 años",
          "De 60 a 64 años",
          "De 60 a 64 años",
          "De 60 a 64 años",
          "De 60 a 64 años",
          "De 60 a 64 años",
          "De 60 a 64 años",
          "De 60 a 64 años",
          "De 90 a 94 años  ",
          "De 60 a 64 años",
          "De 65 a 69 años",
          "De 60 a 64 años",
          "De 60 a 64 años",
          "De 80 a 84 años  ",
          "De 60 a 64 años",
          "De 60 a 64 años",
          "Todas las edades",
          "De 90 a 94 años  ",
          "De 85 a 89 años  ",
          "De 60 a 64 años",
          "De 60 a 64 años",
          "De 60 a 64 años",
          "De 65 a 69 años",
          "De 60 a 64 años",
          "Todas las edades",
          "De 80 a 84 años  ",
          "De 90 a 94 años  ",
          "De 70 a 74 años  ",
          "De 55 a 59 años",
          "De 75 a 79 años  ",
          "De 55 a 59 años",
          "De 70 a 74 años  ",
          "95 y más años",
          "95 y más años",
          "De 60 a 64 años",
          "De 55 a 59 años",
          "De 55 a 59 años",
          "De 55 a 59 años",
          "De 55 a 59 años",
          "De 55 a 59 años",
          "De 60 a 64 años",
          "De 55 a 59 años",
          "De 65 a 69 años",
          "95 y más años",
          "De 55 a 59 años",
          "Todas las edades",
          "De 55 a 59 años",
          "De 55 a 59 años",
          "De 55 a 59 años",
          "De 55 a 59 años",
          "95 y más años",
          "De 90 a 94 años  ",
          "De 65 a 69 años",
          "De 55 a 59 años",
          "De 55 a 59 años",
          "Todas las edades",
          "De 75 a 79 años  ",
          "Todas las edades",
          "De 55 a 59 años",
          "De 55 a 59 años",
          "De 55 a 59 años",
          "De 55 a 59 años",
          "De 60 a 64 años",
          "95 y más años",
          "De 55 a 59 años",
          "De 55 a 59 años",
          "De 50 a 54 años",
          "De 55 a 59 años",
          "De 55 a 59 años",
          "De 90 a 94 años  ",
          "95 y más años",
          "De 55 a 59 años",
          "De 55 a 59 años",
          "De 55 a 59 años",
          "De 60 a 64 años",
          "De 55 a 59 años",
          "De 55 a 59 años",
          "De 85 a 89 años  ",
          "De 55 a 59 años",
          "De 60 a 64 años",
          "De 85 a 89 años  ",
          "De 55 a 59 años",
          "De 65 a 69 años",
          "De 50 a 54 años",
          "95 y más años",
          "De 55 a 59 años",
          "De 80 a 84 años  ",
          "De 55 a 59 años",
          "De 70 a 74 años  ",
          "De 60 a 64 años",
          "De 80 a 84 años  ",
          "De 50 a 54 años",
          "De 50 a 54 años",
          "De 55 a 59 años",
          "De 50 a 54 años",
          "De 50 a 54 años",
          "De 55 a 59 años",
          "De 50 a 54 años",
          "De 65 a 69 años",
          "De 50 a 54 años",
          "De 70 a 74 años  ",
          "De 90 a 94 años  ",
          "De 75 a 79 años  ",
          "De 50 a 54 años",
          "De 50 a 54 años",
          "De 50 a 54 años",
          "De 50 a 54 años",
          "De 50 a 54 años",
          "De 65 a 69 años",
          "De 75 a 79 años  ",
          "De 55 a 59 años",
          "De 50 a 54 años",
          "De 50 a 54 años",
          "De 50 a 54 años",
          "De 45 a 49 años",
          "De 45 a 49 años",
          "95 y más años",
          "De 50 a 54 años",
          "De 50 a 54 años",
          "De 90 a 94 años  ",
          "De 50 a 54 años",
          "95 y más años",
          "95 y más años",
          "De 50 a 54 años",
          "De 50 a 54 años",
          "De 50 a 54 años",
          "De 50 a 54 años",
          "De 50 a 54 años",
          "De 45 a 49 años",
          "De 40 a 44 años",
          "De 45 a 49 años",
          "De 45 a 49 años",
          "De 40 a 44 años",
          "De 45 a 49 años",
          "De 75 a 79 años  ",
          "De 50 a 54 años",
          "De 35 a 39 años",
          "De 70 a 74 años  ",
          "De 70 a 74 años  ",
          "De 70 a 74 años  ",
          "De 80 a 84 años  ",
          "De 75 a 79 años  ",
          "De 60 a 64 años",
          "De 60 a 64 años",
          "De 65 a 69 años",
          "De 45 a 49 años",
          "95 y más años",
          "De 80 a 84 años  ",
          "De 85 a 89 años  ",
          "De 90 a 94 años  ",
          "De 90 a 94 años  ",
          "De 50 a 54 años",
          "95 y más años",
          "De 50 a 54 años",
          "De 35 a 39 años",
          "De 50 a 54 años",
          "De 80 a 84 años  ",
          "De 80 a 84 años  ",
          "De 55 a 59 años",
          "De 75 a 79 años  ",
          "De 65 a 69 años",
          "De 60 a 64 años",
          "De 55 a 59 años",
          "De 55 a 59 años",
          "De 55 a 59 años",
          "De 20 a 24 años",
          "De 30 a 34 años",
          "De 30 a 34 años",
          "De 30 a 34 años",
          "De 50 a 54 años",
          "De 50 a 54 años",
          "De 35 a 39 años",
          "De 50 a 54 años",
          "De 35 a 39 años",
          "De 45 a 49 años",
          "De 35 a 39 años",
          "De 45 a 49 años",
          "De 50 a 54 años",
          "De 45 a 49 años",
          "De 45 a 49 años",
          "De 45 a 49 años",
          "De 45 a 49 años",
          "De 45 a 49 años",
          "De 45 a 49 años",
          "De 45 a 49 años",
          "De 45 a 49 años",
          "De 45 a 49 años",
          "De 35 a 39 años",
          "De 45 a 49 años",
          "De 40 a 44 años",
          "De 45 a 49 años",
          "De 35 a 39 años",
          "De 35 a 39 años",
          "De 35 a 39 años",
          "De 35 a 39 años",
          "De 40 a 44 años",
          "De 40 a 44 años",
          "De 40 a 44 años",
          "De 40 a 44 años",
          "De 45 a 49 años",
          "De 1 a 4 años",
          "De 1 a 4 años",
          "De 1 a 4 años",
          "De 1 a 4 años",
          "De 1 a 4 años",
          "De 1 a 4 años",
          "De 1 a 4 años",
          "De 1 a 4 años",
          "De 1 a 4 años",
          "De 1 a 4 años",
          "De 1 a 4 años",
          "De 1 a 4 años",
          "De 1 a 4 años",
          "De 1 a 4 años",
          "De 1 a 4 años",
          "De 1 a 4 años",
          "De 1 a 4 años",
          "De 1 a 4 años",
          "De 1 a 4 años",
          "De 1 a 4 años",
          "De 1 a 4 años",
          "De 1 a 4 años",
          "De 1 a 4 años",
          "De 1 a 4 años",
          "De 1 a 4 años",
          "De 1 a 4 años",
          "De 1 a 4 años",
          "De 15 a 19 años  ",
          "De 10 a 14 años  ",
          "De 15 a 19 años  ",
          "De 15 a 19 años  ",
          "De 15 a 19 años  ",
          "De 15 a 19 años  ",
          "De 15 a 19 años  ",
          "De 15 a 19 años  ",
          "De 15 a 19 años  ",
          "De 15 a 19 años  ",
          "De 15 a 19 años  ",
          "De 1 a 4 años",
          "Menos de 1 año",
          "De 5 a 9 años",
          "De 5 a 9 años",
          "De 1 a 4 años",
          "De 1 a 4 años",
          "De 1 a 4 años",
          "De 1 a 4 años",
          "De 1 a 4 años",
          "De 1 a 4 años",
          "De 1 a 4 años",
          "De 5 a 9 años",
          "De 1 a 4 años",
          "De 5 a 9 años",
          "De 5 a 9 años",
          "De 5 a 9 años",
          "De 5 a 9 años",
          "De 1 a 4 años",
          "De 5 a 9 años",
          "De 5 a 9 años",
          "De 5 a 9 años",
          "De 5 a 9 años",
          "De 5 a 9 años",
          "De 5 a 9 años",
          "De 5 a 9 años",
          "De 5 a 9 años",
          "De 5 a 9 años",
          "De 15 a 19 años  ",
          "De 15 a 19 años  ",
          "De 15 a 19 años  ",
          "De 20 a 24 años",
          "De 15 a 19 años  ",
          "De 90 a 94 años  ",
          "De 90 a 94 años  ",
          "De 90 a 94 años  ",
          "95 y más años",
          "De 5 a 9 años",
          "De 5 a 9 años",
          "De 5 a 9 años",
          "De 5 a 9 años",
          "De 1 a 4 años",
          "De 5 a 9 años",
          "De 5 a 9 años",
          "De 5 a 9 años",
          "De 5 a 9 años",
          "De 5 a 9 años",
          "De 5 a 9 años",
          "De 5 a 9 años",
          "De 5 a 9 años",
          "De 5 a 9 años",
          "De 5 a 9 años",
          "De 15 a 19 años  ",
          "De 5 a 9 años",
          "De 5 a 9 años",
          "De 5 a 9 años",
          "De 5 a 9 años",
          "De 5 a 9 años",
          "De 5 a 9 años",
          "De 5 a 9 años",
          "De 5 a 9 años",
          "De 5 a 9 años",
          "De 15 a 19 años  ",
          "De 15 a 19 años  ",
          "De 15 a 19 años  ",
          "Menos de 1 año",
          "Menos de 1 año",
          "Menos de 1 año",
          "Menos de 1 año",
          "Menos de 1 año",
          "Menos de 1 año",
          "Menos de 1 año",
          "Menos de 1 año",
          "Menos de 1 año",
          "Menos de 1 año",
          "Menos de 1 año",
          "Menos de 1 año",
          "De 10 a 14 años  ",
          "Menos de 1 año",
          "De 1 a 4 años",
          "De 10 a 14 años  ",
          "De 10 a 14 años  ",
          "De 10 a 14 años  ",
          "De 10 a 14 años  ",
          "De 10 a 14 años  ",
          "De 10 a 14 años  ",
          "De 10 a 14 años  ",
          "De 10 a 14 años  ",
          "Menos de 1 año",
          "Menos de 1 año",
          "Menos de 1 año",
          "Menos de 1 año",
          "Menos de 1 año",
          "Menos de 1 año",
          "Menos de 1 año",
          "Menos de 1 año",
          "Menos de 1 año",
          "Menos de 1 año",
          "Menos de 1 año",
          "Menos de 1 año",
          "Menos de 1 año",
          "Menos de 1 año",
          "Menos de 1 año",
          "Menos de 1 año",
          "Menos de 1 año",
          "Menos de 1 año",
          "Menos de 1 año",
          "Menos de 1 año",
          "Menos de 1 año",
          "Menos de 1 año",
          "Menos de 1 año",
          "Menos de 1 año",
          "Menos de 1 año",
          "De 10 a 14 años  ",
          "De 10 a 14 años  ",
          "De 15 a 19 años  ",
          "De 15 a 19 años  ",
          "De 10 a 14 años  ",
          "De 15 a 19 años  ",
          "De 15 a 19 años  ",
          "De 15 a 19 años  ",
          "De 15 a 19 años  ",
          "De 15 a 19 años  ",
          "De 15 a 19 años  ",
          "De 15 a 19 años  ",
          "De 15 a 19 años  ",
          "De 15 a 19 años  ",
          "95 y más años",
          "De 10 a 14 años  ",
          "De 15 a 19 años  ",
          "De 15 a 19 años  ",
          "De 15 a 19 años  ",
          "De 15 a 19 años  ",
          "De 15 a 19 años  ",
          "De 15 a 19 años  ",
          "De 15 a 19 años  ",
          "De 15 a 19 años  ",
          "De 15 a 19 años  ",
          "De 15 a 19 años  ",
          "De 10 a 14 años  ",
          "De 10 a 14 años  ",
          "De 10 a 14 años  ",
          "De 10 a 14 años  ",
          "De 10 a 14 años  ",
          "De 10 a 14 años  ",
          "De 10 a 14 años  ",
          "De 10 a 14 años  ",
          "De 10 a 14 años  ",
          "De 10 a 14 años  ",
          "De 10 a 14 años  ",
          "De 10 a 14 años  ",
          "De 10 a 14 años  ",
          "De 10 a 14 años  ",
          "De 10 a 14 años  ",
          "De 10 a 14 años  ",
          "De 10 a 14 años  ",
          "De 10 a 14 años  ",
          "De 10 a 14 años  ",
          "De 10 a 14 años  ",
          "De 10 a 14 años  ",
          "De 10 a 14 años  ",
          "De 10 a 14 años  ",
          "De 10 a 14 años  ",
          "De 10 a 14 años  ",
          "95 y más años",
          "De 30 a 34 años",
          "De 85 a 89 años  ",
          "De 25 a 29 años",
          "De 25 a 29 años",
          "De 25 a 29 años",
          "De 25 a 29 años",
          "De 25 a 29 años",
          "De 25 a 29 años",
          "De 25 a 29 años",
          "De 25 a 29 años",
          "De 25 a 29 años",
          "De 25 a 29 años",
          "De 25 a 29 años",
          "De 25 a 29 años",
          "De 50 a 54 años",
          "De 25 a 29 años",
          "De 25 a 29 años",
          "De 25 a 29 años",
          "De 25 a 29 años",
          "De 25 a 29 años",
          "De 25 a 29 años",
          "De 25 a 29 años",
          "De 25 a 29 años",
          "De 25 a 29 años",
          "De 40 a 44 años",
          "De 25 a 29 años",
          "De 25 a 29 años",
          "De 25 a 29 años",
          "De 25 a 29 años",
          "De 20 a 24 años",
          "De 20 a 24 años",
          "De 20 a 24 años",
          "De 20 a 24 años",
          "De 20 a 24 años",
          "De 20 a 24 años",
          "De 20 a 24 años",
          "De 20 a 24 años",
          "De 20 a 24 años",
          "De 20 a 24 años",
          "De 25 a 29 años",
          "De 25 a 29 años",
          "De 25 a 29 años",
          "De 25 a 29 años",
          "De 25 a 29 años",
          "De 25 a 29 años",
          "De 25 a 29 años",
          "De 25 a 29 años",
          "De 25 a 29 años",
          "De 25 a 29 años",
          "De 25 a 29 años",
          "De 50 a 54 años",
          "De 50 a 54 años",
          "De 85 a 89 años  ",
          "De 40 a 44 años",
          "De 40 a 44 años",
          "De 40 a 44 años",
          "De 40 a 44 años",
          "De 40 a 44 años",
          "De 40 a 44 años",
          "De 40 a 44 años",
          "De 40 a 44 años",
          "De 40 a 44 años",
          "De 40 a 44 años",
          "De 40 a 44 años",
          "De 40 a 44 años",
          "De 45 a 49 años",
          "De 40 a 44 años",
          "De 40 a 44 años",
          "De 40 a 44 años",
          "De 40 a 44 años",
          "De 45 a 49 años",
          "De 45 a 49 años",
          "De 40 a 44 años",
          "De 40 a 44 años",
          "De 40 a 44 años",
          "De 40 a 44 años",
          "De 40 a 44 años",
          "De 40 a 44 años",
          "De 45 a 49 años",
          "De 40 a 44 años",
          "De 45 a 49 años",
          "De 45 a 49 años",
          "De 45 a 49 años",
          "De 45 a 49 años",
          "De 45 a 49 años",
          "De 45 a 49 años",
          "De 45 a 49 años",
          "De 45 a 49 años",
          "De 45 a 49 años",
          "De 50 a 54 años",
          "De 45 a 49 años",
          "De 45 a 49 años",
          "De 50 a 54 años",
          "De 50 a 54 años",
          "De 50 a 54 años",
          "De 45 a 49 años",
          "De 45 a 49 años",
          "De 40 a 44 años",
          "De 45 a 49 años",
          "De 40 a 44 años",
          "De 40 a 44 años",
          "De 20 a 24 años",
          "De 20 a 24 años",
          "De 20 a 24 años",
          "De 30 a 34 años",
          "De 30 a 34 años",
          "De 30 a 34 años",
          "De 30 a 34 años",
          "De 30 a 34 años",
          "De 30 a 34 años",
          "De 30 a 34 años",
          "De 30 a 34 años",
          "De 30 a 34 años",
          "De 30 a 34 años",
          "De 30 a 34 años",
          "De 30 a 34 años",
          "De 20 a 24 años",
          "De 30 a 34 años",
          "De 35 a 39 años",
          "De 35 a 39 años",
          "De 35 a 39 años",
          "De 35 a 39 años",
          "De 35 a 39 años",
          "De 35 a 39 años",
          "De 35 a 39 años",
          "De 35 a 39 años",
          "De 35 a 39 años",
          "De 30 a 34 años",
          "De 30 a 34 años",
          "De 30 a 34 años",
          "De 30 a 34 años",
          "De 85 a 89 años  ",
          "De 85 a 89 años  ",
          "De 35 a 39 años",
          "De 30 a 34 años",
          "De 30 a 34 años",
          "De 30 a 34 años",
          "De 30 a 34 años",
          "De 30 a 34 años",
          "De 30 a 34 años",
          "De 30 a 34 años",
          "De 30 a 34 años",
          "De 30 a 34 años",
          "De 30 a 34 años",
          "De 30 a 34 años",
          "De 30 a 34 años",
          "De 30 a 34 años",
          "De 30 a 34 años",
          "De 30 a 34 años",
          "De 30 a 34 años",
          "De 30 a 34 años",
          "De 30 a 34 años",
          "De 35 a 39 años",
          "De 35 a 39 años",
          "De 40 a 44 años",
          "De 20 a 24 años",
          "De 20 a 24 años",
          "De 20 a 24 años",
          "De 20 a 24 años",
          "De 20 a 24 años",
          "De 20 a 24 años",
          "De 20 a 24 años",
          "De 20 a 24 años",
          "De 20 a 24 años",
          "De 20 a 24 años",
          "De 20 a 24 años",
          "De 20 a 24 años",
          "De 20 a 24 años",
          "De 20 a 24 años",
          "De 20 a 24 años",
          "De 20 a 24 años",
          "De 20 a 24 años",
          "De 20 a 24 años",
          "De 20 a 24 años",
          "De 20 a 24 años",
          "De 20 a 24 años",
          "De 20 a 24 años",
          "De 20 a 24 años",
          "De 25 a 29 años",
          "De 40 a 44 años",
          "De 25 a 29 años",
          "De 40 a 44 años",
          "De 40 a 44 años",
          "De 35 a 39 años",
          "De 35 a 39 años",
          "De 35 a 39 años",
          "De 35 a 39 años",
          "De 35 a 39 años",
          "De 35 a 39 años",
          "De 35 a 39 años",
          "De 35 a 39 años",
          "De 35 a 39 años",
          "De 25 a 29 años",
          "De 35 a 39 años",
          "De 35 a 39 años",
          "De 35 a 39 años",
          "De 35 a 39 años",
          "De 35 a 39 años",
          "De 35 a 39 años",
          "De 35 a 39 años",
          "De 35 a 39 años",
          "De 40 a 44 años",
          "95 y más años"
         ],
         "xaxis": "x",
         "yaxis": "y"
        }
       ],
       "layout": {
        "bargap": 0.2,
        "barmode": "relative",
        "legend": {
         "tracegroupgap": 0
        },
        "template": {
         "data": {
          "bar": [
           {
            "error_x": {
             "color": "#2a3f5f"
            },
            "error_y": {
             "color": "#2a3f5f"
            },
            "marker": {
             "line": {
              "color": "#E5ECF6",
              "width": 0.5
             },
             "pattern": {
              "fillmode": "overlay",
              "size": 10,
              "solidity": 0.2
             }
            },
            "type": "bar"
           }
          ],
          "barpolar": [
           {
            "marker": {
             "line": {
              "color": "#E5ECF6",
              "width": 0.5
             },
             "pattern": {
              "fillmode": "overlay",
              "size": 10,
              "solidity": 0.2
             }
            },
            "type": "barpolar"
           }
          ],
          "carpet": [
           {
            "aaxis": {
             "endlinecolor": "#2a3f5f",
             "gridcolor": "white",
             "linecolor": "white",
             "minorgridcolor": "white",
             "startlinecolor": "#2a3f5f"
            },
            "baxis": {
             "endlinecolor": "#2a3f5f",
             "gridcolor": "white",
             "linecolor": "white",
             "minorgridcolor": "white",
             "startlinecolor": "#2a3f5f"
            },
            "type": "carpet"
           }
          ],
          "choropleth": [
           {
            "colorbar": {
             "outlinewidth": 0,
             "ticks": ""
            },
            "type": "choropleth"
           }
          ],
          "contour": [
           {
            "colorbar": {
             "outlinewidth": 0,
             "ticks": ""
            },
            "colorscale": [
             [
              0,
              "#0d0887"
             ],
             [
              0.1111111111111111,
              "#46039f"
             ],
             [
              0.2222222222222222,
              "#7201a8"
             ],
             [
              0.3333333333333333,
              "#9c179e"
             ],
             [
              0.4444444444444444,
              "#bd3786"
             ],
             [
              0.5555555555555556,
              "#d8576b"
             ],
             [
              0.6666666666666666,
              "#ed7953"
             ],
             [
              0.7777777777777778,
              "#fb9f3a"
             ],
             [
              0.8888888888888888,
              "#fdca26"
             ],
             [
              1,
              "#f0f921"
             ]
            ],
            "type": "contour"
           }
          ],
          "contourcarpet": [
           {
            "colorbar": {
             "outlinewidth": 0,
             "ticks": ""
            },
            "type": "contourcarpet"
           }
          ],
          "heatmap": [
           {
            "colorbar": {
             "outlinewidth": 0,
             "ticks": ""
            },
            "colorscale": [
             [
              0,
              "#0d0887"
             ],
             [
              0.1111111111111111,
              "#46039f"
             ],
             [
              0.2222222222222222,
              "#7201a8"
             ],
             [
              0.3333333333333333,
              "#9c179e"
             ],
             [
              0.4444444444444444,
              "#bd3786"
             ],
             [
              0.5555555555555556,
              "#d8576b"
             ],
             [
              0.6666666666666666,
              "#ed7953"
             ],
             [
              0.7777777777777778,
              "#fb9f3a"
             ],
             [
              0.8888888888888888,
              "#fdca26"
             ],
             [
              1,
              "#f0f921"
             ]
            ],
            "type": "heatmap"
           }
          ],
          "heatmapgl": [
           {
            "colorbar": {
             "outlinewidth": 0,
             "ticks": ""
            },
            "colorscale": [
             [
              0,
              "#0d0887"
             ],
             [
              0.1111111111111111,
              "#46039f"
             ],
             [
              0.2222222222222222,
              "#7201a8"
             ],
             [
              0.3333333333333333,
              "#9c179e"
             ],
             [
              0.4444444444444444,
              "#bd3786"
             ],
             [
              0.5555555555555556,
              "#d8576b"
             ],
             [
              0.6666666666666666,
              "#ed7953"
             ],
             [
              0.7777777777777778,
              "#fb9f3a"
             ],
             [
              0.8888888888888888,
              "#fdca26"
             ],
             [
              1,
              "#f0f921"
             ]
            ],
            "type": "heatmapgl"
           }
          ],
          "histogram": [
           {
            "marker": {
             "pattern": {
              "fillmode": "overlay",
              "size": 10,
              "solidity": 0.2
             }
            },
            "type": "histogram"
           }
          ],
          "histogram2d": [
           {
            "colorbar": {
             "outlinewidth": 0,
             "ticks": ""
            },
            "colorscale": [
             [
              0,
              "#0d0887"
             ],
             [
              0.1111111111111111,
              "#46039f"
             ],
             [
              0.2222222222222222,
              "#7201a8"
             ],
             [
              0.3333333333333333,
              "#9c179e"
             ],
             [
              0.4444444444444444,
              "#bd3786"
             ],
             [
              0.5555555555555556,
              "#d8576b"
             ],
             [
              0.6666666666666666,
              "#ed7953"
             ],
             [
              0.7777777777777778,
              "#fb9f3a"
             ],
             [
              0.8888888888888888,
              "#fdca26"
             ],
             [
              1,
              "#f0f921"
             ]
            ],
            "type": "histogram2d"
           }
          ],
          "histogram2dcontour": [
           {
            "colorbar": {
             "outlinewidth": 0,
             "ticks": ""
            },
            "colorscale": [
             [
              0,
              "#0d0887"
             ],
             [
              0.1111111111111111,
              "#46039f"
             ],
             [
              0.2222222222222222,
              "#7201a8"
             ],
             [
              0.3333333333333333,
              "#9c179e"
             ],
             [
              0.4444444444444444,
              "#bd3786"
             ],
             [
              0.5555555555555556,
              "#d8576b"
             ],
             [
              0.6666666666666666,
              "#ed7953"
             ],
             [
              0.7777777777777778,
              "#fb9f3a"
             ],
             [
              0.8888888888888888,
              "#fdca26"
             ],
             [
              1,
              "#f0f921"
             ]
            ],
            "type": "histogram2dcontour"
           }
          ],
          "mesh3d": [
           {
            "colorbar": {
             "outlinewidth": 0,
             "ticks": ""
            },
            "type": "mesh3d"
           }
          ],
          "parcoords": [
           {
            "line": {
             "colorbar": {
              "outlinewidth": 0,
              "ticks": ""
             }
            },
            "type": "parcoords"
           }
          ],
          "pie": [
           {
            "automargin": true,
            "type": "pie"
           }
          ],
          "scatter": [
           {
            "fillpattern": {
             "fillmode": "overlay",
             "size": 10,
             "solidity": 0.2
            },
            "type": "scatter"
           }
          ],
          "scatter3d": [
           {
            "line": {
             "colorbar": {
              "outlinewidth": 0,
              "ticks": ""
             }
            },
            "marker": {
             "colorbar": {
              "outlinewidth": 0,
              "ticks": ""
             }
            },
            "type": "scatter3d"
           }
          ],
          "scattercarpet": [
           {
            "marker": {
             "colorbar": {
              "outlinewidth": 0,
              "ticks": ""
             }
            },
            "type": "scattercarpet"
           }
          ],
          "scattergeo": [
           {
            "marker": {
             "colorbar": {
              "outlinewidth": 0,
              "ticks": ""
             }
            },
            "type": "scattergeo"
           }
          ],
          "scattergl": [
           {
            "marker": {
             "colorbar": {
              "outlinewidth": 0,
              "ticks": ""
             }
            },
            "type": "scattergl"
           }
          ],
          "scattermapbox": [
           {
            "marker": {
             "colorbar": {
              "outlinewidth": 0,
              "ticks": ""
             }
            },
            "type": "scattermapbox"
           }
          ],
          "scatterpolar": [
           {
            "marker": {
             "colorbar": {
              "outlinewidth": 0,
              "ticks": ""
             }
            },
            "type": "scatterpolar"
           }
          ],
          "scatterpolargl": [
           {
            "marker": {
             "colorbar": {
              "outlinewidth": 0,
              "ticks": ""
             }
            },
            "type": "scatterpolargl"
           }
          ],
          "scatterternary": [
           {
            "marker": {
             "colorbar": {
              "outlinewidth": 0,
              "ticks": ""
             }
            },
            "type": "scatterternary"
           }
          ],
          "surface": [
           {
            "colorbar": {
             "outlinewidth": 0,
             "ticks": ""
            },
            "colorscale": [
             [
              0,
              "#0d0887"
             ],
             [
              0.1111111111111111,
              "#46039f"
             ],
             [
              0.2222222222222222,
              "#7201a8"
             ],
             [
              0.3333333333333333,
              "#9c179e"
             ],
             [
              0.4444444444444444,
              "#bd3786"
             ],
             [
              0.5555555555555556,
              "#d8576b"
             ],
             [
              0.6666666666666666,
              "#ed7953"
             ],
             [
              0.7777777777777778,
              "#fb9f3a"
             ],
             [
              0.8888888888888888,
              "#fdca26"
             ],
             [
              1,
              "#f0f921"
             ]
            ],
            "type": "surface"
           }
          ],
          "table": [
           {
            "cells": {
             "fill": {
              "color": "#EBF0F8"
             },
             "line": {
              "color": "white"
             }
            },
            "header": {
             "fill": {
              "color": "#C8D4E3"
             },
             "line": {
              "color": "white"
             }
            },
            "type": "table"
           }
          ]
         },
         "layout": {
          "annotationdefaults": {
           "arrowcolor": "#2a3f5f",
           "arrowhead": 0,
           "arrowwidth": 1
          },
          "autotypenumbers": "strict",
          "coloraxis": {
           "colorbar": {
            "outlinewidth": 0,
            "ticks": ""
           }
          },
          "colorscale": {
           "diverging": [
            [
             0,
             "#8e0152"
            ],
            [
             0.1,
             "#c51b7d"
            ],
            [
             0.2,
             "#de77ae"
            ],
            [
             0.3,
             "#f1b6da"
            ],
            [
             0.4,
             "#fde0ef"
            ],
            [
             0.5,
             "#f7f7f7"
            ],
            [
             0.6,
             "#e6f5d0"
            ],
            [
             0.7,
             "#b8e186"
            ],
            [
             0.8,
             "#7fbc41"
            ],
            [
             0.9,
             "#4d9221"
            ],
            [
             1,
             "#276419"
            ]
           ],
           "sequential": [
            [
             0,
             "#0d0887"
            ],
            [
             0.1111111111111111,
             "#46039f"
            ],
            [
             0.2222222222222222,
             "#7201a8"
            ],
            [
             0.3333333333333333,
             "#9c179e"
            ],
            [
             0.4444444444444444,
             "#bd3786"
            ],
            [
             0.5555555555555556,
             "#d8576b"
            ],
            [
             0.6666666666666666,
             "#ed7953"
            ],
            [
             0.7777777777777778,
             "#fb9f3a"
            ],
            [
             0.8888888888888888,
             "#fdca26"
            ],
            [
             1,
             "#f0f921"
            ]
           ],
           "sequentialminus": [
            [
             0,
             "#0d0887"
            ],
            [
             0.1111111111111111,
             "#46039f"
            ],
            [
             0.2222222222222222,
             "#7201a8"
            ],
            [
             0.3333333333333333,
             "#9c179e"
            ],
            [
             0.4444444444444444,
             "#bd3786"
            ],
            [
             0.5555555555555556,
             "#d8576b"
            ],
            [
             0.6666666666666666,
             "#ed7953"
            ],
            [
             0.7777777777777778,
             "#fb9f3a"
            ],
            [
             0.8888888888888888,
             "#fdca26"
            ],
            [
             1,
             "#f0f921"
            ]
           ]
          },
          "colorway": [
           "#636efa",
           "#EF553B",
           "#00cc96",
           "#ab63fa",
           "#FFA15A",
           "#19d3f3",
           "#FF6692",
           "#B6E880",
           "#FF97FF",
           "#FECB52"
          ],
          "font": {
           "color": "#2a3f5f"
          },
          "geo": {
           "bgcolor": "white",
           "lakecolor": "white",
           "landcolor": "#E5ECF6",
           "showlakes": true,
           "showland": true,
           "subunitcolor": "white"
          },
          "hoverlabel": {
           "align": "left"
          },
          "hovermode": "closest",
          "mapbox": {
           "style": "light"
          },
          "paper_bgcolor": "white",
          "plot_bgcolor": "#E5ECF6",
          "polar": {
           "angularaxis": {
            "gridcolor": "white",
            "linecolor": "white",
            "ticks": ""
           },
           "bgcolor": "#E5ECF6",
           "radialaxis": {
            "gridcolor": "white",
            "linecolor": "white",
            "ticks": ""
           }
          },
          "scene": {
           "xaxis": {
            "backgroundcolor": "#E5ECF6",
            "gridcolor": "white",
            "gridwidth": 2,
            "linecolor": "white",
            "showbackground": true,
            "ticks": "",
            "zerolinecolor": "white"
           },
           "yaxis": {
            "backgroundcolor": "#E5ECF6",
            "gridcolor": "white",
            "gridwidth": 2,
            "linecolor": "white",
            "showbackground": true,
            "ticks": "",
            "zerolinecolor": "white"
           },
           "zaxis": {
            "backgroundcolor": "#E5ECF6",
            "gridcolor": "white",
            "gridwidth": 2,
            "linecolor": "white",
            "showbackground": true,
            "ticks": "",
            "zerolinecolor": "white"
           }
          },
          "shapedefaults": {
           "line": {
            "color": "#2a3f5f"
           }
          },
          "ternary": {
           "aaxis": {
            "gridcolor": "white",
            "linecolor": "white",
            "ticks": ""
           },
           "baxis": {
            "gridcolor": "white",
            "linecolor": "white",
            "ticks": ""
           },
           "bgcolor": "#E5ECF6",
           "caxis": {
            "gridcolor": "white",
            "linecolor": "white",
            "ticks": ""
           }
          },
          "title": {
           "x": 0.05
          },
          "xaxis": {
           "automargin": true,
           "gridcolor": "white",
           "linecolor": "white",
           "ticks": "",
           "title": {
            "standoff": 15
           },
           "zerolinecolor": "white",
           "zerolinewidth": 2
          },
          "yaxis": {
           "automargin": true,
           "gridcolor": "white",
           "linecolor": "white",
           "ticks": "",
           "title": {
            "standoff": 15
           },
           "zerolinecolor": "white",
           "zerolinewidth": 2
          }
         }
        },
        "title": {
         "text": "Histogram for df1"
        },
        "xaxis": {
         "anchor": "y",
         "domain": [
          0,
          1
         ],
         "title": {
          "text": "Edad"
         }
        },
        "yaxis": {
         "anchor": "x",
         "domain": [
          0,
          1
         ],
         "title": {
          "text": "count"
         }
        }
       }
      },
      "text/html": [
       "<div>                            <div id=\"461dd04d-7645-4ec6-a325-2d624078de0f\" class=\"plotly-graph-div\" style=\"height:525px; width:100%;\"></div>            <script type=\"text/javascript\">                require([\"plotly\"], function(Plotly) {                    window.PLOTLYENV=window.PLOTLYENV || {};                                    if (document.getElementById(\"461dd04d-7645-4ec6-a325-2d624078de0f\")) {                    Plotly.newPlot(                        \"461dd04d-7645-4ec6-a325-2d624078de0f\",                        [{\"alignmentgroup\":\"True\",\"bingroup\":\"x\",\"hovertemplate\":\"Edad=%{x}<br>count=%{y}<extra></extra>\",\"legendgroup\":\"\",\"marker\":{\"color\":\"#636efa\",\"pattern\":{\"shape\":\"\"}},\"name\":\"\",\"offsetgroup\":\"\",\"orientation\":\"v\",\"showlegend\":false,\"x\":[\"Todas las edades\",\"Todas las edades\",\"Todas las edades\",\"Todas las edades\",\"Todas las edades\",\"Todas las edades\",\"Todas las edades\",\"Todas las edades\",\"Todas las edades\",\"Todas las edades\",\"Todas las edades\",\"Todas las edades\",\"Todas las edades\",\"Todas las edades\",\"Todas las edades\",\"Todas las edades\",\"Todas las edades\",\"Todas las edades\",\"De 85 a 89 a\\u00f1os  \",\"Todas las edades\",\"De 85 a 89 a\\u00f1os  \",\"De 85 a 89 a\\u00f1os  \",\"De 85 a 89 a\\u00f1os  \",\"Todas las edades\",\"De 85 a 89 a\\u00f1os  \",\"De 85 a 89 a\\u00f1os  \",\"De 85 a 89 a\\u00f1os  \",\"De 90 a 94 a\\u00f1os  \",\"De 90 a 94 a\\u00f1os  \",\"De 90 a 94 a\\u00f1os  \",\"De 85 a 89 a\\u00f1os  \",\"De 90 a 94 a\\u00f1os  \",\"De 85 a 89 a\\u00f1os  \",\"De 85 a 89 a\\u00f1os  \",\"De 90 a 94 a\\u00f1os  \",\"De 80 a 84 a\\u00f1os  \",\"De 85 a 89 a\\u00f1os  \",\"De 80 a 84 a\\u00f1os  \",\"De 80 a 84 a\\u00f1os  \",\"De 90 a 94 a\\u00f1os  \",\"Todas las edades\",\"De 80 a 84 a\\u00f1os  \",\"De 80 a 84 a\\u00f1os  \",\"De 80 a 84 a\\u00f1os  \",\"De 85 a 89 a\\u00f1os  \",\"De 90 a 94 a\\u00f1os  \",\"De 80 a 84 a\\u00f1os  \",\"De 80 a 84 a\\u00f1os  \",\"De 80 a 84 a\\u00f1os  \",\"De 80 a 84 a\\u00f1os  \",\"De 80 a 84 a\\u00f1os  \",\"De 80 a 84 a\\u00f1os  \",\"De 85 a 89 a\\u00f1os  \",\"De 85 a 89 a\\u00f1os  \",\"De 80 a 84 a\\u00f1os  \",\"Todas las edades\",\"De 90 a 94 a\\u00f1os  \",\"De 80 a 84 a\\u00f1os  \",\"De 80 a 84 a\\u00f1os  \",\"De 85 a 89 a\\u00f1os  \",\"De 85 a 89 a\\u00f1os  \",\"De 90 a 94 a\\u00f1os  \",\"Todas las edades\",\"De 80 a 84 a\\u00f1os  \",\"De 90 a 94 a\\u00f1os  \",\"Todas las edades\",\"De 90 a 94 a\\u00f1os  \",\"De 80 a 84 a\\u00f1os  \",\"De 90 a 94 a\\u00f1os  \",\"De 85 a 89 a\\u00f1os  \",\"Todas las edades\",\"De 80 a 84 a\\u00f1os  \",\"De 85 a 89 a\\u00f1os  \",\"95 y m\\u00e1s a\\u00f1os\",\"De 90 a 94 a\\u00f1os  \",\"95 y m\\u00e1s a\\u00f1os\",\"De 90 a 94 a\\u00f1os  \",\"95 y m\\u00e1s a\\u00f1os\",\"De 85 a 89 a\\u00f1os  \",\"95 y m\\u00e1s a\\u00f1os\",\"De 75 a 79 a\\u00f1os  \",\"De 80 a 84 a\\u00f1os  \",\"De 75 a 79 a\\u00f1os  \",\"De 75 a 79 a\\u00f1os  \",\"De 90 a 94 a\\u00f1os  \",\"De 75 a 79 a\\u00f1os  \",\"De 80 a 84 a\\u00f1os  \",\"De 75 a 79 a\\u00f1os  \",\"De 90 a 94 a\\u00f1os  \",\"De 75 a 79 a\\u00f1os  \",\"De 75 a 79 a\\u00f1os  \",\"De 75 a 79 a\\u00f1os  \",\"De 75 a 79 a\\u00f1os  \",\"Todas las edades\",\"De 75 a 79 a\\u00f1os  \",\"De 85 a 89 a\\u00f1os  \",\"De 75 a 79 a\\u00f1os  \",\"De 75 a 79 a\\u00f1os  \",\"De 75 a 79 a\\u00f1os  \",\"De 75 a 79 a\\u00f1os  \",\"De 75 a 79 a\\u00f1os  \",\"95 y m\\u00e1s a\\u00f1os\",\"De 75 a 79 a\\u00f1os  \",\"De 75 a 79 a\\u00f1os  \",\"Todas las edades\",\"95 y m\\u00e1s a\\u00f1os\",\"95 y m\\u00e1s a\\u00f1os\",\"De 75 a 79 a\\u00f1os  \",\"De 90 a 94 a\\u00f1os  \",\"Todas las edades\",\"De 75 a 79 a\\u00f1os  \",\"De 75 a 79 a\\u00f1os  \",\"De 90 a 94 a\\u00f1os  \",\"95 y m\\u00e1s a\\u00f1os\",\"De 80 a 84 a\\u00f1os  \",\"95 y m\\u00e1s a\\u00f1os\",\"Todas las edades\",\"De 90 a 94 a\\u00f1os  \",\"95 y m\\u00e1s a\\u00f1os\",\"De 85 a 89 a\\u00f1os  \",\"De 75 a 79 a\\u00f1os  \",\"De 80 a 84 a\\u00f1os  \",\"De 90 a 94 a\\u00f1os  \",\"95 y m\\u00e1s a\\u00f1os\",\"De 80 a 84 a\\u00f1os  \",\"Todas las edades\",\"95 y m\\u00e1s a\\u00f1os\",\"De 85 a 89 a\\u00f1os  \",\"De 70 a 74 a\\u00f1os  \",\"De 75 a 79 a\\u00f1os  \",\"De 80 a 84 a\\u00f1os  \",\"De 70 a 74 a\\u00f1os  \",\"95 y m\\u00e1s a\\u00f1os\",\"De 70 a 74 a\\u00f1os  \",\"De 75 a 79 a\\u00f1os  \",\"De 70 a 74 a\\u00f1os  \",\"95 y m\\u00e1s a\\u00f1os\",\"De 85 a 89 a\\u00f1os  \",\"De 70 a 74 a\\u00f1os  \",\"De 70 a 74 a\\u00f1os  \",\"De 70 a 74 a\\u00f1os  \",\"De 70 a 74 a\\u00f1os  \",\"De 70 a 74 a\\u00f1os  \",\"De 70 a 74 a\\u00f1os  \",\"De 70 a 74 a\\u00f1os  \",\"De 75 a 79 a\\u00f1os  \",\"De 70 a 74 a\\u00f1os  \",\"De 70 a 74 a\\u00f1os  \",\"De 80 a 84 a\\u00f1os  \",\"De 70 a 74 a\\u00f1os  \",\"De 70 a 74 a\\u00f1os  \",\"De 85 a 89 a\\u00f1os  \",\"95 y m\\u00e1s a\\u00f1os\",\"Todas las edades\",\"De 70 a 74 a\\u00f1os  \",\"95 y m\\u00e1s a\\u00f1os\",\"De 70 a 74 a\\u00f1os  \",\"De 75 a 79 a\\u00f1os  \",\"De 90 a 94 a\\u00f1os  \",\"De 70 a 74 a\\u00f1os  \",\"De 70 a 74 a\\u00f1os  \",\"De 70 a 74 a\\u00f1os  \",\"De 85 a 89 a\\u00f1os  \",\"De 70 a 74 a\\u00f1os  \",\"De 80 a 84 a\\u00f1os  \",\"De 70 a 74 a\\u00f1os  \",\"Todas las edades\",\"De 75 a 79 a\\u00f1os  \",\"95 y m\\u00e1s a\\u00f1os\",\"De 70 a 74 a\\u00f1os  \",\"95 y m\\u00e1s a\\u00f1os\",\"De 90 a 94 a\\u00f1os  \",\"De 70 a 74 a\\u00f1os  \",\"De 75 a 79 a\\u00f1os  \",\"De 75 a 79 a\\u00f1os  \",\"De 70 a 74 a\\u00f1os  \",\"De 80 a 84 a\\u00f1os  \",\"De 85 a 89 a\\u00f1os  \",\"95 y m\\u00e1s a\\u00f1os\",\"De 80 a 84 a\\u00f1os  \",\"De 85 a 89 a\\u00f1os  \",\"De 90 a 94 a\\u00f1os  \",\"De 65 a 69 a\\u00f1os\",\"De 75 a 79 a\\u00f1os  \",\"De 80 a 84 a\\u00f1os  \",\"De 70 a 74 a\\u00f1os  \",\"De 90 a 94 a\\u00f1os  \",\"De 65 a 69 a\\u00f1os\",\"De 65 a 69 a\\u00f1os\",\"De 70 a 74 a\\u00f1os  \",\"De 65 a 69 a\\u00f1os\",\"95 y m\\u00e1s a\\u00f1os\",\"De 65 a 69 a\\u00f1os\",\"De 65 a 69 a\\u00f1os\",\"De 65 a 69 a\\u00f1os\",\"De 65 a 69 a\\u00f1os\",\"De 65 a 69 a\\u00f1os\",\"De 70 a 74 a\\u00f1os  \",\"De 85 a 89 a\\u00f1os  \",\"Todas las edades\",\"De 65 a 69 a\\u00f1os\",\"De 80 a 84 a\\u00f1os  \",\"De 65 a 69 a\\u00f1os\",\"De 65 a 69 a\\u00f1os\",\"De 65 a 69 a\\u00f1os\",\"De 65 a 69 a\\u00f1os\",\"De 65 a 69 a\\u00f1os\",\"De 65 a 69 a\\u00f1os\",\"De 70 a 74 a\\u00f1os  \",\"De 65 a 69 a\\u00f1os\",\"De 65 a 69 a\\u00f1os\",\"De 65 a 69 a\\u00f1os\",\"De 65 a 69 a\\u00f1os\",\"De 75 a 79 a\\u00f1os  \",\"De 65 a 69 a\\u00f1os\",\"De 85 a 89 a\\u00f1os  \",\"De 90 a 94 a\\u00f1os  \",\"De 65 a 69 a\\u00f1os\",\"De 65 a 69 a\\u00f1os\",\"De 65 a 69 a\\u00f1os\",\"Todas las edades\",\"De 65 a 69 a\\u00f1os\",\"De 65 a 69 a\\u00f1os\",\"De 65 a 69 a\\u00f1os\",\"De 70 a 74 a\\u00f1os  \",\"De 65 a 69 a\\u00f1os\",\"De 75 a 79 a\\u00f1os  \",\"De 85 a 89 a\\u00f1os  \",\"De 90 a 94 a\\u00f1os  \",\"De 60 a 64 a\\u00f1os\",\"De 65 a 69 a\\u00f1os\",\"De 65 a 69 a\\u00f1os\",\"De 60 a 64 a\\u00f1os\",\"De 60 a 64 a\\u00f1os\",\"De 75 a 79 a\\u00f1os  \",\"De 60 a 64 a\\u00f1os\",\"De 80 a 84 a\\u00f1os  \",\"De 70 a 74 a\\u00f1os  \",\"De 60 a 64 a\\u00f1os\",\"De 90 a 94 a\\u00f1os  \",\"De 60 a 64 a\\u00f1os\",\"De 60 a 64 a\\u00f1os\",\"De 60 a 64 a\\u00f1os\",\"De 60 a 64 a\\u00f1os\",\"De 60 a 64 a\\u00f1os\",\"95 y m\\u00e1s a\\u00f1os\",\"De 70 a 74 a\\u00f1os  \",\"95 y m\\u00e1s a\\u00f1os\",\"95 y m\\u00e1s a\\u00f1os\",\"De 60 a 64 a\\u00f1os\",\"De 60 a 64 a\\u00f1os\",\"De 85 a 89 a\\u00f1os  \",\"De 60 a 64 a\\u00f1os\",\"De 60 a 64 a\\u00f1os\",\"De 60 a 64 a\\u00f1os\",\"De 60 a 64 a\\u00f1os\",\"De 60 a 64 a\\u00f1os\",\"De 60 a 64 a\\u00f1os\",\"De 60 a 64 a\\u00f1os\",\"De 60 a 64 a\\u00f1os\",\"De 60 a 64 a\\u00f1os\",\"De 90 a 94 a\\u00f1os  \",\"De 60 a 64 a\\u00f1os\",\"De 65 a 69 a\\u00f1os\",\"De 60 a 64 a\\u00f1os\",\"De 60 a 64 a\\u00f1os\",\"De 80 a 84 a\\u00f1os  \",\"De 60 a 64 a\\u00f1os\",\"De 60 a 64 a\\u00f1os\",\"Todas las edades\",\"De 90 a 94 a\\u00f1os  \",\"De 85 a 89 a\\u00f1os  \",\"De 60 a 64 a\\u00f1os\",\"De 60 a 64 a\\u00f1os\",\"De 60 a 64 a\\u00f1os\",\"De 65 a 69 a\\u00f1os\",\"De 60 a 64 a\\u00f1os\",\"Todas las edades\",\"De 80 a 84 a\\u00f1os  \",\"De 90 a 94 a\\u00f1os  \",\"De 70 a 74 a\\u00f1os  \",\"De 55 a 59 a\\u00f1os\",\"De 75 a 79 a\\u00f1os  \",\"De 55 a 59 a\\u00f1os\",\"De 70 a 74 a\\u00f1os  \",\"95 y m\\u00e1s a\\u00f1os\",\"95 y m\\u00e1s a\\u00f1os\",\"De 60 a 64 a\\u00f1os\",\"De 55 a 59 a\\u00f1os\",\"De 55 a 59 a\\u00f1os\",\"De 55 a 59 a\\u00f1os\",\"De 55 a 59 a\\u00f1os\",\"De 55 a 59 a\\u00f1os\",\"De 60 a 64 a\\u00f1os\",\"De 55 a 59 a\\u00f1os\",\"De 65 a 69 a\\u00f1os\",\"95 y m\\u00e1s a\\u00f1os\",\"De 55 a 59 a\\u00f1os\",\"Todas las edades\",\"De 55 a 59 a\\u00f1os\",\"De 55 a 59 a\\u00f1os\",\"De 55 a 59 a\\u00f1os\",\"De 55 a 59 a\\u00f1os\",\"95 y m\\u00e1s a\\u00f1os\",\"De 90 a 94 a\\u00f1os  \",\"De 65 a 69 a\\u00f1os\",\"De 55 a 59 a\\u00f1os\",\"De 55 a 59 a\\u00f1os\",\"Todas las edades\",\"De 75 a 79 a\\u00f1os  \",\"Todas las edades\",\"De 55 a 59 a\\u00f1os\",\"De 55 a 59 a\\u00f1os\",\"De 55 a 59 a\\u00f1os\",\"De 55 a 59 a\\u00f1os\",\"De 60 a 64 a\\u00f1os\",\"95 y m\\u00e1s a\\u00f1os\",\"De 55 a 59 a\\u00f1os\",\"De 55 a 59 a\\u00f1os\",\"De 50 a 54 a\\u00f1os\",\"De 55 a 59 a\\u00f1os\",\"De 55 a 59 a\\u00f1os\",\"De 90 a 94 a\\u00f1os  \",\"95 y m\\u00e1s a\\u00f1os\",\"De 55 a 59 a\\u00f1os\",\"De 55 a 59 a\\u00f1os\",\"De 55 a 59 a\\u00f1os\",\"De 60 a 64 a\\u00f1os\",\"De 55 a 59 a\\u00f1os\",\"De 55 a 59 a\\u00f1os\",\"De 85 a 89 a\\u00f1os  \",\"De 55 a 59 a\\u00f1os\",\"De 60 a 64 a\\u00f1os\",\"De 85 a 89 a\\u00f1os  \",\"De 55 a 59 a\\u00f1os\",\"De 65 a 69 a\\u00f1os\",\"De 50 a 54 a\\u00f1os\",\"95 y m\\u00e1s a\\u00f1os\",\"De 55 a 59 a\\u00f1os\",\"De 80 a 84 a\\u00f1os  \",\"De 55 a 59 a\\u00f1os\",\"De 70 a 74 a\\u00f1os  \",\"De 60 a 64 a\\u00f1os\",\"De 80 a 84 a\\u00f1os  \",\"De 50 a 54 a\\u00f1os\",\"De 50 a 54 a\\u00f1os\",\"De 55 a 59 a\\u00f1os\",\"De 50 a 54 a\\u00f1os\",\"De 50 a 54 a\\u00f1os\",\"De 55 a 59 a\\u00f1os\",\"De 50 a 54 a\\u00f1os\",\"De 65 a 69 a\\u00f1os\",\"De 50 a 54 a\\u00f1os\",\"De 70 a 74 a\\u00f1os  \",\"De 90 a 94 a\\u00f1os  \",\"De 75 a 79 a\\u00f1os  \",\"De 50 a 54 a\\u00f1os\",\"De 50 a 54 a\\u00f1os\",\"De 50 a 54 a\\u00f1os\",\"De 50 a 54 a\\u00f1os\",\"De 50 a 54 a\\u00f1os\",\"De 65 a 69 a\\u00f1os\",\"De 75 a 79 a\\u00f1os  \",\"De 55 a 59 a\\u00f1os\",\"De 50 a 54 a\\u00f1os\",\"De 50 a 54 a\\u00f1os\",\"De 50 a 54 a\\u00f1os\",\"De 45 a 49 a\\u00f1os\",\"De 45 a 49 a\\u00f1os\",\"95 y m\\u00e1s a\\u00f1os\",\"De 50 a 54 a\\u00f1os\",\"De 50 a 54 a\\u00f1os\",\"De 90 a 94 a\\u00f1os  \",\"De 50 a 54 a\\u00f1os\",\"95 y m\\u00e1s a\\u00f1os\",\"95 y m\\u00e1s a\\u00f1os\",\"De 50 a 54 a\\u00f1os\",\"De 50 a 54 a\\u00f1os\",\"De 50 a 54 a\\u00f1os\",\"De 50 a 54 a\\u00f1os\",\"De 50 a 54 a\\u00f1os\",\"De 45 a 49 a\\u00f1os\",\"De 40 a 44 a\\u00f1os\",\"De 45 a 49 a\\u00f1os\",\"De 45 a 49 a\\u00f1os\",\"De 40 a 44 a\\u00f1os\",\"De 45 a 49 a\\u00f1os\",\"De 75 a 79 a\\u00f1os  \",\"De 50 a 54 a\\u00f1os\",\"De 35 a 39 a\\u00f1os\",\"De 70 a 74 a\\u00f1os  \",\"De 70 a 74 a\\u00f1os  \",\"De 70 a 74 a\\u00f1os  \",\"De 80 a 84 a\\u00f1os  \",\"De 75 a 79 a\\u00f1os  \",\"De 60 a 64 a\\u00f1os\",\"De 60 a 64 a\\u00f1os\",\"De 65 a 69 a\\u00f1os\",\"De 45 a 49 a\\u00f1os\",\"95 y m\\u00e1s a\\u00f1os\",\"De 80 a 84 a\\u00f1os  \",\"De 85 a 89 a\\u00f1os  \",\"De 90 a 94 a\\u00f1os  \",\"De 90 a 94 a\\u00f1os  \",\"De 50 a 54 a\\u00f1os\",\"95 y m\\u00e1s a\\u00f1os\",\"De 50 a 54 a\\u00f1os\",\"De 35 a 39 a\\u00f1os\",\"De 50 a 54 a\\u00f1os\",\"De 80 a 84 a\\u00f1os  \",\"De 80 a 84 a\\u00f1os  \",\"De 55 a 59 a\\u00f1os\",\"De 75 a 79 a\\u00f1os  \",\"De 65 a 69 a\\u00f1os\",\"De 60 a 64 a\\u00f1os\",\"De 55 a 59 a\\u00f1os\",\"De 55 a 59 a\\u00f1os\",\"De 55 a 59 a\\u00f1os\",\"De 20 a 24 a\\u00f1os\",\"De 30 a 34 a\\u00f1os\",\"De 30 a 34 a\\u00f1os\",\"De 30 a 34 a\\u00f1os\",\"De 50 a 54 a\\u00f1os\",\"De 50 a 54 a\\u00f1os\",\"De 35 a 39 a\\u00f1os\",\"De 50 a 54 a\\u00f1os\",\"De 35 a 39 a\\u00f1os\",\"De 45 a 49 a\\u00f1os\",\"De 35 a 39 a\\u00f1os\",\"De 45 a 49 a\\u00f1os\",\"De 50 a 54 a\\u00f1os\",\"De 45 a 49 a\\u00f1os\",\"De 45 a 49 a\\u00f1os\",\"De 45 a 49 a\\u00f1os\",\"De 45 a 49 a\\u00f1os\",\"De 45 a 49 a\\u00f1os\",\"De 45 a 49 a\\u00f1os\",\"De 45 a 49 a\\u00f1os\",\"De 45 a 49 a\\u00f1os\",\"De 45 a 49 a\\u00f1os\",\"De 35 a 39 a\\u00f1os\",\"De 45 a 49 a\\u00f1os\",\"De 40 a 44 a\\u00f1os\",\"De 45 a 49 a\\u00f1os\",\"De 35 a 39 a\\u00f1os\",\"De 35 a 39 a\\u00f1os\",\"De 35 a 39 a\\u00f1os\",\"De 35 a 39 a\\u00f1os\",\"De 40 a 44 a\\u00f1os\",\"De 40 a 44 a\\u00f1os\",\"De 40 a 44 a\\u00f1os\",\"De 40 a 44 a\\u00f1os\",\"De 45 a 49 a\\u00f1os\",\"De 1 a 4 a\\u00f1os\",\"De 1 a 4 a\\u00f1os\",\"De 1 a 4 a\\u00f1os\",\"De 1 a 4 a\\u00f1os\",\"De 1 a 4 a\\u00f1os\",\"De 1 a 4 a\\u00f1os\",\"De 1 a 4 a\\u00f1os\",\"De 1 a 4 a\\u00f1os\",\"De 1 a 4 a\\u00f1os\",\"De 1 a 4 a\\u00f1os\",\"De 1 a 4 a\\u00f1os\",\"De 1 a 4 a\\u00f1os\",\"De 1 a 4 a\\u00f1os\",\"De 1 a 4 a\\u00f1os\",\"De 1 a 4 a\\u00f1os\",\"De 1 a 4 a\\u00f1os\",\"De 1 a 4 a\\u00f1os\",\"De 1 a 4 a\\u00f1os\",\"De 1 a 4 a\\u00f1os\",\"De 1 a 4 a\\u00f1os\",\"De 1 a 4 a\\u00f1os\",\"De 1 a 4 a\\u00f1os\",\"De 1 a 4 a\\u00f1os\",\"De 1 a 4 a\\u00f1os\",\"De 1 a 4 a\\u00f1os\",\"De 1 a 4 a\\u00f1os\",\"De 1 a 4 a\\u00f1os\",\"De 15 a 19 a\\u00f1os  \",\"De 10 a 14 a\\u00f1os  \",\"De 15 a 19 a\\u00f1os  \",\"De 15 a 19 a\\u00f1os  \",\"De 15 a 19 a\\u00f1os  \",\"De 15 a 19 a\\u00f1os  \",\"De 15 a 19 a\\u00f1os  \",\"De 15 a 19 a\\u00f1os  \",\"De 15 a 19 a\\u00f1os  \",\"De 15 a 19 a\\u00f1os  \",\"De 15 a 19 a\\u00f1os  \",\"De 1 a 4 a\\u00f1os\",\"Menos de 1 a\\u00f1o\",\"De 5 a 9 a\\u00f1os\",\"De 5 a 9 a\\u00f1os\",\"De 1 a 4 a\\u00f1os\",\"De 1 a 4 a\\u00f1os\",\"De 1 a 4 a\\u00f1os\",\"De 1 a 4 a\\u00f1os\",\"De 1 a 4 a\\u00f1os\",\"De 1 a 4 a\\u00f1os\",\"De 1 a 4 a\\u00f1os\",\"De 5 a 9 a\\u00f1os\",\"De 1 a 4 a\\u00f1os\",\"De 5 a 9 a\\u00f1os\",\"De 5 a 9 a\\u00f1os\",\"De 5 a 9 a\\u00f1os\",\"De 5 a 9 a\\u00f1os\",\"De 1 a 4 a\\u00f1os\",\"De 5 a 9 a\\u00f1os\",\"De 5 a 9 a\\u00f1os\",\"De 5 a 9 a\\u00f1os\",\"De 5 a 9 a\\u00f1os\",\"De 5 a 9 a\\u00f1os\",\"De 5 a 9 a\\u00f1os\",\"De 5 a 9 a\\u00f1os\",\"De 5 a 9 a\\u00f1os\",\"De 5 a 9 a\\u00f1os\",\"De 15 a 19 a\\u00f1os  \",\"De 15 a 19 a\\u00f1os  \",\"De 15 a 19 a\\u00f1os  \",\"De 20 a 24 a\\u00f1os\",\"De 15 a 19 a\\u00f1os  \",\"De 90 a 94 a\\u00f1os  \",\"De 90 a 94 a\\u00f1os  \",\"De 90 a 94 a\\u00f1os  \",\"95 y m\\u00e1s a\\u00f1os\",\"De 5 a 9 a\\u00f1os\",\"De 5 a 9 a\\u00f1os\",\"De 5 a 9 a\\u00f1os\",\"De 5 a 9 a\\u00f1os\",\"De 1 a 4 a\\u00f1os\",\"De 5 a 9 a\\u00f1os\",\"De 5 a 9 a\\u00f1os\",\"De 5 a 9 a\\u00f1os\",\"De 5 a 9 a\\u00f1os\",\"De 5 a 9 a\\u00f1os\",\"De 5 a 9 a\\u00f1os\",\"De 5 a 9 a\\u00f1os\",\"De 5 a 9 a\\u00f1os\",\"De 5 a 9 a\\u00f1os\",\"De 5 a 9 a\\u00f1os\",\"De 15 a 19 a\\u00f1os  \",\"De 5 a 9 a\\u00f1os\",\"De 5 a 9 a\\u00f1os\",\"De 5 a 9 a\\u00f1os\",\"De 5 a 9 a\\u00f1os\",\"De 5 a 9 a\\u00f1os\",\"De 5 a 9 a\\u00f1os\",\"De 5 a 9 a\\u00f1os\",\"De 5 a 9 a\\u00f1os\",\"De 5 a 9 a\\u00f1os\",\"De 15 a 19 a\\u00f1os  \",\"De 15 a 19 a\\u00f1os  \",\"De 15 a 19 a\\u00f1os  \",\"Menos de 1 a\\u00f1o\",\"Menos de 1 a\\u00f1o\",\"Menos de 1 a\\u00f1o\",\"Menos de 1 a\\u00f1o\",\"Menos de 1 a\\u00f1o\",\"Menos de 1 a\\u00f1o\",\"Menos de 1 a\\u00f1o\",\"Menos de 1 a\\u00f1o\",\"Menos de 1 a\\u00f1o\",\"Menos de 1 a\\u00f1o\",\"Menos de 1 a\\u00f1o\",\"Menos de 1 a\\u00f1o\",\"De 10 a 14 a\\u00f1os  \",\"Menos de 1 a\\u00f1o\",\"De 1 a 4 a\\u00f1os\",\"De 10 a 14 a\\u00f1os  \",\"De 10 a 14 a\\u00f1os  \",\"De 10 a 14 a\\u00f1os  \",\"De 10 a 14 a\\u00f1os  \",\"De 10 a 14 a\\u00f1os  \",\"De 10 a 14 a\\u00f1os  \",\"De 10 a 14 a\\u00f1os  \",\"De 10 a 14 a\\u00f1os  \",\"Menos de 1 a\\u00f1o\",\"Menos de 1 a\\u00f1o\",\"Menos de 1 a\\u00f1o\",\"Menos de 1 a\\u00f1o\",\"Menos de 1 a\\u00f1o\",\"Menos de 1 a\\u00f1o\",\"Menos de 1 a\\u00f1o\",\"Menos de 1 a\\u00f1o\",\"Menos de 1 a\\u00f1o\",\"Menos de 1 a\\u00f1o\",\"Menos de 1 a\\u00f1o\",\"Menos de 1 a\\u00f1o\",\"Menos de 1 a\\u00f1o\",\"Menos de 1 a\\u00f1o\",\"Menos de 1 a\\u00f1o\",\"Menos de 1 a\\u00f1o\",\"Menos de 1 a\\u00f1o\",\"Menos de 1 a\\u00f1o\",\"Menos de 1 a\\u00f1o\",\"Menos de 1 a\\u00f1o\",\"Menos de 1 a\\u00f1o\",\"Menos de 1 a\\u00f1o\",\"Menos de 1 a\\u00f1o\",\"Menos de 1 a\\u00f1o\",\"Menos de 1 a\\u00f1o\",\"De 10 a 14 a\\u00f1os  \",\"De 10 a 14 a\\u00f1os  \",\"De 15 a 19 a\\u00f1os  \",\"De 15 a 19 a\\u00f1os  \",\"De 10 a 14 a\\u00f1os  \",\"De 15 a 19 a\\u00f1os  \",\"De 15 a 19 a\\u00f1os  \",\"De 15 a 19 a\\u00f1os  \",\"De 15 a 19 a\\u00f1os  \",\"De 15 a 19 a\\u00f1os  \",\"De 15 a 19 a\\u00f1os  \",\"De 15 a 19 a\\u00f1os  \",\"De 15 a 19 a\\u00f1os  \",\"De 15 a 19 a\\u00f1os  \",\"95 y m\\u00e1s a\\u00f1os\",\"De 10 a 14 a\\u00f1os  \",\"De 15 a 19 a\\u00f1os  \",\"De 15 a 19 a\\u00f1os  \",\"De 15 a 19 a\\u00f1os  \",\"De 15 a 19 a\\u00f1os  \",\"De 15 a 19 a\\u00f1os  \",\"De 15 a 19 a\\u00f1os  \",\"De 15 a 19 a\\u00f1os  \",\"De 15 a 19 a\\u00f1os  \",\"De 15 a 19 a\\u00f1os  \",\"De 15 a 19 a\\u00f1os  \",\"De 10 a 14 a\\u00f1os  \",\"De 10 a 14 a\\u00f1os  \",\"De 10 a 14 a\\u00f1os  \",\"De 10 a 14 a\\u00f1os  \",\"De 10 a 14 a\\u00f1os  \",\"De 10 a 14 a\\u00f1os  \",\"De 10 a 14 a\\u00f1os  \",\"De 10 a 14 a\\u00f1os  \",\"De 10 a 14 a\\u00f1os  \",\"De 10 a 14 a\\u00f1os  \",\"De 10 a 14 a\\u00f1os  \",\"De 10 a 14 a\\u00f1os  \",\"De 10 a 14 a\\u00f1os  \",\"De 10 a 14 a\\u00f1os  \",\"De 10 a 14 a\\u00f1os  \",\"De 10 a 14 a\\u00f1os  \",\"De 10 a 14 a\\u00f1os  \",\"De 10 a 14 a\\u00f1os  \",\"De 10 a 14 a\\u00f1os  \",\"De 10 a 14 a\\u00f1os  \",\"De 10 a 14 a\\u00f1os  \",\"De 10 a 14 a\\u00f1os  \",\"De 10 a 14 a\\u00f1os  \",\"De 10 a 14 a\\u00f1os  \",\"De 10 a 14 a\\u00f1os  \",\"95 y m\\u00e1s a\\u00f1os\",\"De 30 a 34 a\\u00f1os\",\"De 85 a 89 a\\u00f1os  \",\"De 25 a 29 a\\u00f1os\",\"De 25 a 29 a\\u00f1os\",\"De 25 a 29 a\\u00f1os\",\"De 25 a 29 a\\u00f1os\",\"De 25 a 29 a\\u00f1os\",\"De 25 a 29 a\\u00f1os\",\"De 25 a 29 a\\u00f1os\",\"De 25 a 29 a\\u00f1os\",\"De 25 a 29 a\\u00f1os\",\"De 25 a 29 a\\u00f1os\",\"De 25 a 29 a\\u00f1os\",\"De 25 a 29 a\\u00f1os\",\"De 50 a 54 a\\u00f1os\",\"De 25 a 29 a\\u00f1os\",\"De 25 a 29 a\\u00f1os\",\"De 25 a 29 a\\u00f1os\",\"De 25 a 29 a\\u00f1os\",\"De 25 a 29 a\\u00f1os\",\"De 25 a 29 a\\u00f1os\",\"De 25 a 29 a\\u00f1os\",\"De 25 a 29 a\\u00f1os\",\"De 25 a 29 a\\u00f1os\",\"De 40 a 44 a\\u00f1os\",\"De 25 a 29 a\\u00f1os\",\"De 25 a 29 a\\u00f1os\",\"De 25 a 29 a\\u00f1os\",\"De 25 a 29 a\\u00f1os\",\"De 20 a 24 a\\u00f1os\",\"De 20 a 24 a\\u00f1os\",\"De 20 a 24 a\\u00f1os\",\"De 20 a 24 a\\u00f1os\",\"De 20 a 24 a\\u00f1os\",\"De 20 a 24 a\\u00f1os\",\"De 20 a 24 a\\u00f1os\",\"De 20 a 24 a\\u00f1os\",\"De 20 a 24 a\\u00f1os\",\"De 20 a 24 a\\u00f1os\",\"De 25 a 29 a\\u00f1os\",\"De 25 a 29 a\\u00f1os\",\"De 25 a 29 a\\u00f1os\",\"De 25 a 29 a\\u00f1os\",\"De 25 a 29 a\\u00f1os\",\"De 25 a 29 a\\u00f1os\",\"De 25 a 29 a\\u00f1os\",\"De 25 a 29 a\\u00f1os\",\"De 25 a 29 a\\u00f1os\",\"De 25 a 29 a\\u00f1os\",\"De 25 a 29 a\\u00f1os\",\"De 50 a 54 a\\u00f1os\",\"De 50 a 54 a\\u00f1os\",\"De 85 a 89 a\\u00f1os  \",\"De 40 a 44 a\\u00f1os\",\"De 40 a 44 a\\u00f1os\",\"De 40 a 44 a\\u00f1os\",\"De 40 a 44 a\\u00f1os\",\"De 40 a 44 a\\u00f1os\",\"De 40 a 44 a\\u00f1os\",\"De 40 a 44 a\\u00f1os\",\"De 40 a 44 a\\u00f1os\",\"De 40 a 44 a\\u00f1os\",\"De 40 a 44 a\\u00f1os\",\"De 40 a 44 a\\u00f1os\",\"De 40 a 44 a\\u00f1os\",\"De 45 a 49 a\\u00f1os\",\"De 40 a 44 a\\u00f1os\",\"De 40 a 44 a\\u00f1os\",\"De 40 a 44 a\\u00f1os\",\"De 40 a 44 a\\u00f1os\",\"De 45 a 49 a\\u00f1os\",\"De 45 a 49 a\\u00f1os\",\"De 40 a 44 a\\u00f1os\",\"De 40 a 44 a\\u00f1os\",\"De 40 a 44 a\\u00f1os\",\"De 40 a 44 a\\u00f1os\",\"De 40 a 44 a\\u00f1os\",\"De 40 a 44 a\\u00f1os\",\"De 45 a 49 a\\u00f1os\",\"De 40 a 44 a\\u00f1os\",\"De 45 a 49 a\\u00f1os\",\"De 45 a 49 a\\u00f1os\",\"De 45 a 49 a\\u00f1os\",\"De 45 a 49 a\\u00f1os\",\"De 45 a 49 a\\u00f1os\",\"De 45 a 49 a\\u00f1os\",\"De 45 a 49 a\\u00f1os\",\"De 45 a 49 a\\u00f1os\",\"De 45 a 49 a\\u00f1os\",\"De 50 a 54 a\\u00f1os\",\"De 45 a 49 a\\u00f1os\",\"De 45 a 49 a\\u00f1os\",\"De 50 a 54 a\\u00f1os\",\"De 50 a 54 a\\u00f1os\",\"De 50 a 54 a\\u00f1os\",\"De 45 a 49 a\\u00f1os\",\"De 45 a 49 a\\u00f1os\",\"De 40 a 44 a\\u00f1os\",\"De 45 a 49 a\\u00f1os\",\"De 40 a 44 a\\u00f1os\",\"De 40 a 44 a\\u00f1os\",\"De 20 a 24 a\\u00f1os\",\"De 20 a 24 a\\u00f1os\",\"De 20 a 24 a\\u00f1os\",\"De 30 a 34 a\\u00f1os\",\"De 30 a 34 a\\u00f1os\",\"De 30 a 34 a\\u00f1os\",\"De 30 a 34 a\\u00f1os\",\"De 30 a 34 a\\u00f1os\",\"De 30 a 34 a\\u00f1os\",\"De 30 a 34 a\\u00f1os\",\"De 30 a 34 a\\u00f1os\",\"De 30 a 34 a\\u00f1os\",\"De 30 a 34 a\\u00f1os\",\"De 30 a 34 a\\u00f1os\",\"De 30 a 34 a\\u00f1os\",\"De 20 a 24 a\\u00f1os\",\"De 30 a 34 a\\u00f1os\",\"De 35 a 39 a\\u00f1os\",\"De 35 a 39 a\\u00f1os\",\"De 35 a 39 a\\u00f1os\",\"De 35 a 39 a\\u00f1os\",\"De 35 a 39 a\\u00f1os\",\"De 35 a 39 a\\u00f1os\",\"De 35 a 39 a\\u00f1os\",\"De 35 a 39 a\\u00f1os\",\"De 35 a 39 a\\u00f1os\",\"De 30 a 34 a\\u00f1os\",\"De 30 a 34 a\\u00f1os\",\"De 30 a 34 a\\u00f1os\",\"De 30 a 34 a\\u00f1os\",\"De 85 a 89 a\\u00f1os  \",\"De 85 a 89 a\\u00f1os  \",\"De 35 a 39 a\\u00f1os\",\"De 30 a 34 a\\u00f1os\",\"De 30 a 34 a\\u00f1os\",\"De 30 a 34 a\\u00f1os\",\"De 30 a 34 a\\u00f1os\",\"De 30 a 34 a\\u00f1os\",\"De 30 a 34 a\\u00f1os\",\"De 30 a 34 a\\u00f1os\",\"De 30 a 34 a\\u00f1os\",\"De 30 a 34 a\\u00f1os\",\"De 30 a 34 a\\u00f1os\",\"De 30 a 34 a\\u00f1os\",\"De 30 a 34 a\\u00f1os\",\"De 30 a 34 a\\u00f1os\",\"De 30 a 34 a\\u00f1os\",\"De 30 a 34 a\\u00f1os\",\"De 30 a 34 a\\u00f1os\",\"De 30 a 34 a\\u00f1os\",\"De 30 a 34 a\\u00f1os\",\"De 35 a 39 a\\u00f1os\",\"De 35 a 39 a\\u00f1os\",\"De 40 a 44 a\\u00f1os\",\"De 20 a 24 a\\u00f1os\",\"De 20 a 24 a\\u00f1os\",\"De 20 a 24 a\\u00f1os\",\"De 20 a 24 a\\u00f1os\",\"De 20 a 24 a\\u00f1os\",\"De 20 a 24 a\\u00f1os\",\"De 20 a 24 a\\u00f1os\",\"De 20 a 24 a\\u00f1os\",\"De 20 a 24 a\\u00f1os\",\"De 20 a 24 a\\u00f1os\",\"De 20 a 24 a\\u00f1os\",\"De 20 a 24 a\\u00f1os\",\"De 20 a 24 a\\u00f1os\",\"De 20 a 24 a\\u00f1os\",\"De 20 a 24 a\\u00f1os\",\"De 20 a 24 a\\u00f1os\",\"De 20 a 24 a\\u00f1os\",\"De 20 a 24 a\\u00f1os\",\"De 20 a 24 a\\u00f1os\",\"De 20 a 24 a\\u00f1os\",\"De 20 a 24 a\\u00f1os\",\"De 20 a 24 a\\u00f1os\",\"De 20 a 24 a\\u00f1os\",\"De 25 a 29 a\\u00f1os\",\"De 40 a 44 a\\u00f1os\",\"De 25 a 29 a\\u00f1os\",\"De 40 a 44 a\\u00f1os\",\"De 40 a 44 a\\u00f1os\",\"De 35 a 39 a\\u00f1os\",\"De 35 a 39 a\\u00f1os\",\"De 35 a 39 a\\u00f1os\",\"De 35 a 39 a\\u00f1os\",\"De 35 a 39 a\\u00f1os\",\"De 35 a 39 a\\u00f1os\",\"De 35 a 39 a\\u00f1os\",\"De 35 a 39 a\\u00f1os\",\"De 35 a 39 a\\u00f1os\",\"De 25 a 29 a\\u00f1os\",\"De 35 a 39 a\\u00f1os\",\"De 35 a 39 a\\u00f1os\",\"De 35 a 39 a\\u00f1os\",\"De 35 a 39 a\\u00f1os\",\"De 35 a 39 a\\u00f1os\",\"De 35 a 39 a\\u00f1os\",\"De 35 a 39 a\\u00f1os\",\"De 35 a 39 a\\u00f1os\",\"De 40 a 44 a\\u00f1os\",\"95 y m\\u00e1s a\\u00f1os\"],\"xaxis\":\"x\",\"yaxis\":\"y\",\"type\":\"histogram\"}],                        {\"template\":{\"data\":{\"histogram2dcontour\":[{\"type\":\"histogram2dcontour\",\"colorbar\":{\"outlinewidth\":0,\"ticks\":\"\"},\"colorscale\":[[0.0,\"#0d0887\"],[0.1111111111111111,\"#46039f\"],[0.2222222222222222,\"#7201a8\"],[0.3333333333333333,\"#9c179e\"],[0.4444444444444444,\"#bd3786\"],[0.5555555555555556,\"#d8576b\"],[0.6666666666666666,\"#ed7953\"],[0.7777777777777778,\"#fb9f3a\"],[0.8888888888888888,\"#fdca26\"],[1.0,\"#f0f921\"]]}],\"choropleth\":[{\"type\":\"choropleth\",\"colorbar\":{\"outlinewidth\":0,\"ticks\":\"\"}}],\"histogram2d\":[{\"type\":\"histogram2d\",\"colorbar\":{\"outlinewidth\":0,\"ticks\":\"\"},\"colorscale\":[[0.0,\"#0d0887\"],[0.1111111111111111,\"#46039f\"],[0.2222222222222222,\"#7201a8\"],[0.3333333333333333,\"#9c179e\"],[0.4444444444444444,\"#bd3786\"],[0.5555555555555556,\"#d8576b\"],[0.6666666666666666,\"#ed7953\"],[0.7777777777777778,\"#fb9f3a\"],[0.8888888888888888,\"#fdca26\"],[1.0,\"#f0f921\"]]}],\"heatmap\":[{\"type\":\"heatmap\",\"colorbar\":{\"outlinewidth\":0,\"ticks\":\"\"},\"colorscale\":[[0.0,\"#0d0887\"],[0.1111111111111111,\"#46039f\"],[0.2222222222222222,\"#7201a8\"],[0.3333333333333333,\"#9c179e\"],[0.4444444444444444,\"#bd3786\"],[0.5555555555555556,\"#d8576b\"],[0.6666666666666666,\"#ed7953\"],[0.7777777777777778,\"#fb9f3a\"],[0.8888888888888888,\"#fdca26\"],[1.0,\"#f0f921\"]]}],\"heatmapgl\":[{\"type\":\"heatmapgl\",\"colorbar\":{\"outlinewidth\":0,\"ticks\":\"\"},\"colorscale\":[[0.0,\"#0d0887\"],[0.1111111111111111,\"#46039f\"],[0.2222222222222222,\"#7201a8\"],[0.3333333333333333,\"#9c179e\"],[0.4444444444444444,\"#bd3786\"],[0.5555555555555556,\"#d8576b\"],[0.6666666666666666,\"#ed7953\"],[0.7777777777777778,\"#fb9f3a\"],[0.8888888888888888,\"#fdca26\"],[1.0,\"#f0f921\"]]}],\"contourcarpet\":[{\"type\":\"contourcarpet\",\"colorbar\":{\"outlinewidth\":0,\"ticks\":\"\"}}],\"contour\":[{\"type\":\"contour\",\"colorbar\":{\"outlinewidth\":0,\"ticks\":\"\"},\"colorscale\":[[0.0,\"#0d0887\"],[0.1111111111111111,\"#46039f\"],[0.2222222222222222,\"#7201a8\"],[0.3333333333333333,\"#9c179e\"],[0.4444444444444444,\"#bd3786\"],[0.5555555555555556,\"#d8576b\"],[0.6666666666666666,\"#ed7953\"],[0.7777777777777778,\"#fb9f3a\"],[0.8888888888888888,\"#fdca26\"],[1.0,\"#f0f921\"]]}],\"surface\":[{\"type\":\"surface\",\"colorbar\":{\"outlinewidth\":0,\"ticks\":\"\"},\"colorscale\":[[0.0,\"#0d0887\"],[0.1111111111111111,\"#46039f\"],[0.2222222222222222,\"#7201a8\"],[0.3333333333333333,\"#9c179e\"],[0.4444444444444444,\"#bd3786\"],[0.5555555555555556,\"#d8576b\"],[0.6666666666666666,\"#ed7953\"],[0.7777777777777778,\"#fb9f3a\"],[0.8888888888888888,\"#fdca26\"],[1.0,\"#f0f921\"]]}],\"mesh3d\":[{\"type\":\"mesh3d\",\"colorbar\":{\"outlinewidth\":0,\"ticks\":\"\"}}],\"scatter\":[{\"fillpattern\":{\"fillmode\":\"overlay\",\"size\":10,\"solidity\":0.2},\"type\":\"scatter\"}],\"parcoords\":[{\"type\":\"parcoords\",\"line\":{\"colorbar\":{\"outlinewidth\":0,\"ticks\":\"\"}}}],\"scatterpolargl\":[{\"type\":\"scatterpolargl\",\"marker\":{\"colorbar\":{\"outlinewidth\":0,\"ticks\":\"\"}}}],\"bar\":[{\"error_x\":{\"color\":\"#2a3f5f\"},\"error_y\":{\"color\":\"#2a3f5f\"},\"marker\":{\"line\":{\"color\":\"#E5ECF6\",\"width\":0.5},\"pattern\":{\"fillmode\":\"overlay\",\"size\":10,\"solidity\":0.2}},\"type\":\"bar\"}],\"scattergeo\":[{\"type\":\"scattergeo\",\"marker\":{\"colorbar\":{\"outlinewidth\":0,\"ticks\":\"\"}}}],\"scatterpolar\":[{\"type\":\"scatterpolar\",\"marker\":{\"colorbar\":{\"outlinewidth\":0,\"ticks\":\"\"}}}],\"histogram\":[{\"marker\":{\"pattern\":{\"fillmode\":\"overlay\",\"size\":10,\"solidity\":0.2}},\"type\":\"histogram\"}],\"scattergl\":[{\"type\":\"scattergl\",\"marker\":{\"colorbar\":{\"outlinewidth\":0,\"ticks\":\"\"}}}],\"scatter3d\":[{\"type\":\"scatter3d\",\"line\":{\"colorbar\":{\"outlinewidth\":0,\"ticks\":\"\"}},\"marker\":{\"colorbar\":{\"outlinewidth\":0,\"ticks\":\"\"}}}],\"scattermapbox\":[{\"type\":\"scattermapbox\",\"marker\":{\"colorbar\":{\"outlinewidth\":0,\"ticks\":\"\"}}}],\"scatterternary\":[{\"type\":\"scatterternary\",\"marker\":{\"colorbar\":{\"outlinewidth\":0,\"ticks\":\"\"}}}],\"scattercarpet\":[{\"type\":\"scattercarpet\",\"marker\":{\"colorbar\":{\"outlinewidth\":0,\"ticks\":\"\"}}}],\"carpet\":[{\"aaxis\":{\"endlinecolor\":\"#2a3f5f\",\"gridcolor\":\"white\",\"linecolor\":\"white\",\"minorgridcolor\":\"white\",\"startlinecolor\":\"#2a3f5f\"},\"baxis\":{\"endlinecolor\":\"#2a3f5f\",\"gridcolor\":\"white\",\"linecolor\":\"white\",\"minorgridcolor\":\"white\",\"startlinecolor\":\"#2a3f5f\"},\"type\":\"carpet\"}],\"table\":[{\"cells\":{\"fill\":{\"color\":\"#EBF0F8\"},\"line\":{\"color\":\"white\"}},\"header\":{\"fill\":{\"color\":\"#C8D4E3\"},\"line\":{\"color\":\"white\"}},\"type\":\"table\"}],\"barpolar\":[{\"marker\":{\"line\":{\"color\":\"#E5ECF6\",\"width\":0.5},\"pattern\":{\"fillmode\":\"overlay\",\"size\":10,\"solidity\":0.2}},\"type\":\"barpolar\"}],\"pie\":[{\"automargin\":true,\"type\":\"pie\"}]},\"layout\":{\"autotypenumbers\":\"strict\",\"colorway\":[\"#636efa\",\"#EF553B\",\"#00cc96\",\"#ab63fa\",\"#FFA15A\",\"#19d3f3\",\"#FF6692\",\"#B6E880\",\"#FF97FF\",\"#FECB52\"],\"font\":{\"color\":\"#2a3f5f\"},\"hovermode\":\"closest\",\"hoverlabel\":{\"align\":\"left\"},\"paper_bgcolor\":\"white\",\"plot_bgcolor\":\"#E5ECF6\",\"polar\":{\"bgcolor\":\"#E5ECF6\",\"angularaxis\":{\"gridcolor\":\"white\",\"linecolor\":\"white\",\"ticks\":\"\"},\"radialaxis\":{\"gridcolor\":\"white\",\"linecolor\":\"white\",\"ticks\":\"\"}},\"ternary\":{\"bgcolor\":\"#E5ECF6\",\"aaxis\":{\"gridcolor\":\"white\",\"linecolor\":\"white\",\"ticks\":\"\"},\"baxis\":{\"gridcolor\":\"white\",\"linecolor\":\"white\",\"ticks\":\"\"},\"caxis\":{\"gridcolor\":\"white\",\"linecolor\":\"white\",\"ticks\":\"\"}},\"coloraxis\":{\"colorbar\":{\"outlinewidth\":0,\"ticks\":\"\"}},\"colorscale\":{\"sequential\":[[0.0,\"#0d0887\"],[0.1111111111111111,\"#46039f\"],[0.2222222222222222,\"#7201a8\"],[0.3333333333333333,\"#9c179e\"],[0.4444444444444444,\"#bd3786\"],[0.5555555555555556,\"#d8576b\"],[0.6666666666666666,\"#ed7953\"],[0.7777777777777778,\"#fb9f3a\"],[0.8888888888888888,\"#fdca26\"],[1.0,\"#f0f921\"]],\"sequentialminus\":[[0.0,\"#0d0887\"],[0.1111111111111111,\"#46039f\"],[0.2222222222222222,\"#7201a8\"],[0.3333333333333333,\"#9c179e\"],[0.4444444444444444,\"#bd3786\"],[0.5555555555555556,\"#d8576b\"],[0.6666666666666666,\"#ed7953\"],[0.7777777777777778,\"#fb9f3a\"],[0.8888888888888888,\"#fdca26\"],[1.0,\"#f0f921\"]],\"diverging\":[[0,\"#8e0152\"],[0.1,\"#c51b7d\"],[0.2,\"#de77ae\"],[0.3,\"#f1b6da\"],[0.4,\"#fde0ef\"],[0.5,\"#f7f7f7\"],[0.6,\"#e6f5d0\"],[0.7,\"#b8e186\"],[0.8,\"#7fbc41\"],[0.9,\"#4d9221\"],[1,\"#276419\"]]},\"xaxis\":{\"gridcolor\":\"white\",\"linecolor\":\"white\",\"ticks\":\"\",\"title\":{\"standoff\":15},\"zerolinecolor\":\"white\",\"automargin\":true,\"zerolinewidth\":2},\"yaxis\":{\"gridcolor\":\"white\",\"linecolor\":\"white\",\"ticks\":\"\",\"title\":{\"standoff\":15},\"zerolinecolor\":\"white\",\"automargin\":true,\"zerolinewidth\":2},\"scene\":{\"xaxis\":{\"backgroundcolor\":\"#E5ECF6\",\"gridcolor\":\"white\",\"linecolor\":\"white\",\"showbackground\":true,\"ticks\":\"\",\"zerolinecolor\":\"white\",\"gridwidth\":2},\"yaxis\":{\"backgroundcolor\":\"#E5ECF6\",\"gridcolor\":\"white\",\"linecolor\":\"white\",\"showbackground\":true,\"ticks\":\"\",\"zerolinecolor\":\"white\",\"gridwidth\":2},\"zaxis\":{\"backgroundcolor\":\"#E5ECF6\",\"gridcolor\":\"white\",\"linecolor\":\"white\",\"showbackground\":true,\"ticks\":\"\",\"zerolinecolor\":\"white\",\"gridwidth\":2}},\"shapedefaults\":{\"line\":{\"color\":\"#2a3f5f\"}},\"annotationdefaults\":{\"arrowcolor\":\"#2a3f5f\",\"arrowhead\":0,\"arrowwidth\":1},\"geo\":{\"bgcolor\":\"white\",\"landcolor\":\"#E5ECF6\",\"subunitcolor\":\"white\",\"showland\":true,\"showlakes\":true,\"lakecolor\":\"white\"},\"title\":{\"x\":0.05},\"mapbox\":{\"style\":\"light\"}}},\"xaxis\":{\"anchor\":\"y\",\"domain\":[0.0,1.0],\"title\":{\"text\":\"Edad\"}},\"yaxis\":{\"anchor\":\"x\",\"domain\":[0.0,1.0],\"title\":{\"text\":\"count\"}},\"legend\":{\"tracegroupgap\":0},\"title\":{\"text\":\"Histogram for df1\"},\"barmode\":\"relative\",\"bargap\":0.2},                        {\"responsive\": true}                    ).then(function(){\n",
       "                            \n",
       "var gd = document.getElementById('461dd04d-7645-4ec6-a325-2d624078de0f');\n",
       "var x = new MutationObserver(function (mutations, observer) {{\n",
       "        var display = window.getComputedStyle(gd).display;\n",
       "        if (!display || display === 'none') {{\n",
       "            console.log([gd, 'removed!']);\n",
       "            Plotly.purge(gd);\n",
       "            observer.disconnect();\n",
       "        }}\n",
       "}});\n",
       "\n",
       "// Listen for the removal of the full notebook cells\n",
       "var notebookContainer = gd.closest('#notebook-container');\n",
       "if (notebookContainer) {{\n",
       "    x.observe(notebookContainer, {childList: true});\n",
       "}}\n",
       "\n",
       "// Listen for the clearing of the current output cell\n",
       "var outputEl = gd.closest('.output');\n",
       "if (outputEl) {{\n",
       "    x.observe(outputEl, {childList: true});\n",
       "}}\n",
       "\n",
       "                        })                };                });            </script>        </div>"
      ]
     },
     "metadata": {},
     "output_type": "display_data"
    }
   ],
   "source": [
    "df_alzheimer = mod.row_filter(df_deaths, 'Causa de muerte', ['051  Enfermedad de Alzheimer'])\n",
    "df_mujeres = mod.row_filter(df_alzheimer, 'Sexo', ['Mujeres'])\n",
    "df_hombres = mod.row_filter(df_alzheimer, 'Sexo', ['Hombres'])\n",
    "fig = px.histogram(df_mujeres, x='Edad',  title='Histogram for df1')\n",
    "fig.update_layout(bargap=0.2)"
   ]
  },
  {
   "cell_type": "code",
   "execution_count": 22,
   "metadata": {},
   "outputs": [
    {
     "data": {
      "text/plain": [
       "array(['001-102  I-XXII.Todas las causas',\n",
       "       '001-008  I.Enfermedades infecciosas y parasitarias',\n",
       "       '001  Enfermedades infecciosas intestinales',\n",
       "       '002  Tuberculosis y sus efectos tardíos',\n",
       "       '003  Enfermedad meningocócica', '004  Septicemia',\n",
       "       '005  Hepatitis vírica', '006  SIDA',\n",
       "       '007  VIH+ (portador, evidencias de laboratorio del VIH, ...)',\n",
       "       '008  Resto de enfermedades infecciosas y parasitarias y sus efectos tardíos',\n",
       "       '009-041  II.Tumores',\n",
       "       '009  Tumor maligno del labio, de la cavidad bucal y de la faringe',\n",
       "       '010  Tumor maligno del esófago',\n",
       "       '011  Tumor maligno del estómago', '012  Tumor maligno del colon',\n",
       "       '013  Tumor maligno del recto, de la porción rectosigmoide y del ano',\n",
       "       '014  Tumor maligno del hígado y vías biliares intrahepáticas',\n",
       "       '015  Tumor maligno del páncreas',\n",
       "       '016  Otros tumores malignos digestivos',\n",
       "       '017  Tumor maligno de la laringe',\n",
       "       '018  Tumor maligno de la tráquea, de los bronquios y del pulmón',\n",
       "       '019  Otros tumores malignos respiratorios e intratorácicos',\n",
       "       '020  Tumores malignos del hueso y de los cartílagos articulares',\n",
       "       '021  Melanoma maligno de la piel',\n",
       "       '022  Otros tumores malignos de la piel y de los tejidos blandos',\n",
       "       '023  Tumor maligno de la mama',\n",
       "       '024  Tumor maligno del cuello del útero',\n",
       "       '025  Tumor maligno de otras partes del útero',\n",
       "       '026  Tumor maligno del ovario',\n",
       "       '027  Tumores malignos de otros órganos genitales femeninos',\n",
       "       '028  Tumor maligno de la próstata',\n",
       "       '029  Tumores malignos de otros órganos genitales masculinos',\n",
       "       '030  Tumor maligno del riñón, excepto pelvis renal',\n",
       "       '031  Tumor maligno de la vejiga',\n",
       "       '032  Otros tumores malignos de las vías urinarias',\n",
       "       '033  Tumor maligno del encéfalo',\n",
       "       '034  Otros tumores malignos neurológicos y endocrinos',\n",
       "       '035  Tumor maligno de sitios mal definidos, secundarios y de sitios no especificados',\n",
       "       '036  Tumores malignos del tejido linfático, de los órganos hematopoyéticos y de tejidos afines, excepto leucemia',\n",
       "       '037  Leucemia', '038  Tumores in situ', '039  Tumores benignos',\n",
       "       '040  Síndrome mielodisplásico',\n",
       "       '041  Otros tumores de comportamiento incierto o desconocido',\n",
       "       '042-043  III.Enfermedades de la sangre y de los órganos hematopoyéticos, y ciertos trastornos que afectan al mecanismo de la inmunidad',\n",
       "       '042 Enfermedades de la sangre y de los órganos hematopoyéticos',\n",
       "       '043 Ciertos trastornos que afectan al mecanismo de la inmunidad',\n",
       "       '044-045  IV.Enfermedades endocrinas, nutricionales y metabólicas',\n",
       "       '044  Diabetes mellitus',\n",
       "       '045  Otras enfermedades endocrinas, nutricionales y metabólicas',\n",
       "       '046-049  V.Trastornos mentales y del comportamiento',\n",
       "       '046  Trastornos mentales orgánicos, senil y presenil',\n",
       "       '047  Trastornos mentales debidos al uso de alcohol',\n",
       "       '048  Trastornos mentales debidos al uso de drogas (drogodependencia, toxicomanía)',\n",
       "       '049  Otros trastornos mentales y del comportamiento',\n",
       "       '050-052  VI-VIII.Enfermedades del sistema nervioso y de los órganos de los sentidos',\n",
       "       '050  Meningitis (otras en 003)', '051  Enfermedad de Alzheimer',\n",
       "       '052  Otras enfermedades del sistema nervioso y de los órganos de los sentidos',\n",
       "       '053-061 IX.Enfermedades del sistema circulatorio',\n",
       "       '053  Enfermedades cardíacas reumáticas crónicas',\n",
       "       '054  Enfermedades hipertensivas',\n",
       "       '055  Infarto agudo de miocardio',\n",
       "       '056  Otras enfermedades isquémicas del corazón',\n",
       "       '057  Insuficiencia cardíaca',\n",
       "       '058 Otras enfermedades del corazón',\n",
       "       '059  Enfermedades cerebrovasculares', '060  Aterosclerosis',\n",
       "       '061  Otras enfermedades de los vasos sanguíneos',\n",
       "       '062-067  X.Enfermedades del sistema respiratorio',\n",
       "       '062  Influenza (gripe) (incluye gripe aviar y gripe A)',\n",
       "       '063  Neumonía',\n",
       "       '064  Enfermedades crónicas de las vías respiratorias inferiores (excepto asma)',\n",
       "       '065  Asma', '066  Insuficiencia respiratoria',\n",
       "       '067  Otras enfermedades del sistema respiratorio',\n",
       "       '068-072  XI.Enfermedades del sistema digestivo',\n",
       "       '068  Úlcera de estómago, duodeno y yeyuno',\n",
       "       '069  Enteritis y colitis no infecciosas',\n",
       "       '070  Enfermedad vascular intestinal',\n",
       "       '071  Cirrosis y otras enfermedades crónicas del hígado',\n",
       "       '072  Otras enfermedades del sistema digestivo',\n",
       "       '073  XII.Enfermedades de la piel y del tejido subcutáneo',\n",
       "       '074-076  XIII.Enfermedades del sistema osteomuscular y del tejido conjuntivo',\n",
       "       '074  Artritis reumatoide y osteoartrosis',\n",
       "       '075  Osteoporosis y fractura patológica',\n",
       "       '076  Otras enfermedades del sistema osteomuscular y del tejido conjuntivo',\n",
       "       '077-080  XIV.Enfermedades del sistema genitourinario',\n",
       "       '077  Enfermedades del riñón y del uréter',\n",
       "       '078  Enfermedades de los órganos genitales masculinos',\n",
       "       '079  Enfermedades de los órganos genitales femeninos y trastornos de la mama',\n",
       "       '080  Otras enfermedades del sistema genitourinario',\n",
       "       '081  XV.Embarazo, parto y puerperio',\n",
       "       '082  XVI.Afecciones originadas en el periodo perinatal',\n",
       "       '083-085  XVII.Malformaciones congénitas, deformidades y anomalías cromosómicas',\n",
       "       '083  Malformaciones congénitas del sistema nervioso',\n",
       "       '084  Malformaciones congénitas del sistema circulatorio',\n",
       "       '085  Otras malformaciones congénitas, deformidades y anomalías cromosómicas',\n",
       "       '086-089  XVIII.Síntomas, signos y hallazgos anormales clínicos y de laboratorio, no clasificados en otra parte',\n",
       "       '086 Paro cardíaco, muerte sin asistencia y otra causa desconocida de mortalidad',\n",
       "       '087  Senilidad', '088 Muerte súbita infantil',\n",
       "       '089  Resto de síntomas, signos y hallazgos anormales clínicos y de laboratorio, no clasificados en otra parte',\n",
       "       '090-102  XX.Causas externas de mortalidad',\n",
       "       '090  Accidentes de tráfico',\n",
       "       '091  Otros accidentes de transporte', '092  Caídas accidentales',\n",
       "       '093  Ahogamiento, sumersión y sofocación accidentales',\n",
       "       '094  Accidentes por fuego, humo y sustancias calientes',\n",
       "       '095  Envenenamiento accidental por psicofármacos y drogas de abuso',\n",
       "       '096  Otros envenenamientos accidentales', '097  Otros accidentes',\n",
       "       '098  Suicidio y lesiones autoinfligidas',\n",
       "       '099  Agresiones (homicidio)',\n",
       "       '100  Eventos de intención no determinada',\n",
       "       '101  Complicaciones de la atención médica y quirúrgica',\n",
       "       '102  Otras causas externas y sus efectos tardíos'], dtype=object)"
      ]
     },
     "execution_count": 22,
     "metadata": {},
     "output_type": "execute_result"
    }
   ],
   "source": [
    "df_deaths['Causa de muerte'].unique()"
   ]
  },
  {
   "cell_type": "code",
   "execution_count": 34,
   "metadata": {},
   "outputs": [
    {
     "data": {
      "text/plain": [
       "301158"
      ]
     },
     "execution_count": 34,
     "metadata": {},
     "output_type": "execute_result"
    }
   ],
   "source": [
    "len(df_deaths)"
   ]
  },
  {
   "cell_type": "code",
   "execution_count": 1,
   "metadata": {},
   "outputs": [
    {
     "ename": "NameError",
     "evalue": "name 'df_alzheimer' is not defined",
     "output_type": "error",
     "traceback": [
      "\u001b[0;31m---------------------------------------------------------------------------\u001b[0m",
      "\u001b[0;31mNameError\u001b[0m                                 Traceback (most recent call last)",
      "Cell \u001b[0;32mIn[1], line 1\u001b[0m\n\u001b[0;32m----> 1\u001b[0m df_alzheimer\u001b[38;5;241m.\u001b[39mhead()\n",
      "\u001b[0;31mNameError\u001b[0m: name 'df_alzheimer' is not defined"
     ]
    }
   ],
   "source": [
    "df_alzheimer.head()"
   ]
  },
  {
   "cell_type": "code",
   "execution_count": null,
   "metadata": {},
   "outputs": [],
   "source": [
    "# Cufflinks line plot\n",
    "'''\n",
    "dataset_line.iplot(kind='line',\n",
    "                   x='VARIABLE',\n",
    "                   xTitle='AXIS TITLE',\n",
    "                   yTitle='AXIS TITLE',\n",
    "                   title='VIZ TITLE')\n",
    "'''"
   ]
  },
  {
   "cell_type": "code",
   "execution_count": null,
   "metadata": {},
   "outputs": [],
   "source": [
    "# Cufflinks scatter plot\n",
    "'''\n",
    "dataset_scatter.iplot(x='VARIABLE', \n",
    "                      y='VARIABLE', \n",
    "                      categories='VARIABLE',\n",
    "                      xTitle='AXIS TITLE', \n",
    "                      yTitle='AXIS TITLE',\n",
    "                      title='VIZ TITLE')\n",
    "'''"
   ]
  }
 ],
 "metadata": {
  "kernelspec": {
   "display_name": "python (m2_env)",
   "language": "python",
   "name": "m2_env"
  },
  "language_info": {
   "codemirror_mode": {
    "name": "ipython",
    "version": 3
   },
   "file_extension": ".py",
   "mimetype": "text/x-python",
   "name": "python",
   "nbconvert_exporter": "python",
   "pygments_lexer": "ipython3",
   "version": "3.11.6"
  }
 },
 "nbformat": 4,
 "nbformat_minor": 2
}
